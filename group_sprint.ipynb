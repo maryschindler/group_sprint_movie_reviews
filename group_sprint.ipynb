{
 "cells": [
  {
   "cell_type": "markdown",
   "id": "ccc3d75c-27db-466f-a9ee-362e74cba554",
   "metadata": {},
   "source": [
    "### Project 4 - Hackathon! ####\n",
    "All of the code in this notebook should be considered as joint work that came from the collaboration of the members: Curtis Hope Hill, Mary McAteer, and Kathy Simon."
   ]
  },
  {
   "cell_type": "markdown",
   "id": "2d88f178-c3f8-45f3-a59d-04f37c8aa284",
   "metadata": {},
   "source": [
    "**Description**"
   ]
  },
  {
   "cell_type": "markdown",
   "id": "9193c5d7-9694-42c5-ba50-7ac87fdfd77b",
   "metadata": {},
   "source": [
    "In this project, our group will have four (4) hours to examine and prepare a dataset of movie reviews and build a classification model based on Sentiment Analysis. "
   ]
  },
  {
   "cell_type": "markdown",
   "id": "ead7199f-9ea7-4023-9c97-4f96cfd3821f",
   "metadata": {},
   "source": [
    "**The sentiment labels are:**\n",
    "- 0 - negative\n",
    "- 1 - somewhat negative\n",
    "- 2 - neutral\n",
    "- 3 - somewhat positive\n",
    "- 4 - positive"
   ]
  },
  {
   "cell_type": "markdown",
   "id": "f2b468c8-91b2-43d9-a77b-bd2de297e180",
   "metadata": {},
   "source": [
    "**Imports**"
   ]
  },
  {
   "cell_type": "code",
   "execution_count": 6,
   "id": "b6d9ad6a-889c-4709-83bc-06078d58b15d",
   "metadata": {},
   "outputs": [],
   "source": [
    "#imports\n",
    "import pandas as pd\n",
    "pd.set_option('display.max_colwidth', 999)\n",
    "import numpy as np\n",
    "import matplotlib.pyplot as plt\n",
    "import seaborn as sns\n",
    "\n",
    "import nltk\n",
    "from nltk.corpus import stopwords\n",
    "from nltk.tokenize import word_tokenize\n",
    "from nltk.stem import PorterStemmer\n",
    "from nltk.stem import WordNetLemmatizer\n",
    "from nltk.corpus import wordnet\n",
    "from nltk.sentiment.vader import SentimentIntensityAnalyzer\n",
    "\n",
    "from sklearn.model_selection import train_test_split, cross_val_score, GridSearchCV\n",
    "from sklearn.pipeline import Pipeline\n",
    "from sklearn.naive_bayes import MultinomialNB\n",
    "from sklearn.linear_model import LogisticRegression\n",
    "from sklearn.metrics import confusion_matrix, plot_confusion_matrix, classification_report\n",
    "from sklearn.neighbors import KNeighborsClassifier\n",
    "from sklearn.feature_extraction.text import CountVectorizer, TfidfVectorizer, TfidfTransformer\n",
    "from sklearn.svm import SVC\n",
    "\n",
    "np.random.seed(42)"
   ]
  },
  {
   "cell_type": "markdown",
   "id": "2d04a290-e59d-4414-9076-c88311f5286b",
   "metadata": {},
   "source": [
    "**Cleaning and EDA**"
   ]
  },
  {
   "cell_type": "code",
   "execution_count": 8,
   "id": "f7da7bdd-4462-43a9-ba15-e48e63749db6",
   "metadata": {},
   "outputs": [
    {
     "data": {
      "text/html": [
       "<div>\n",
       "<style scoped>\n",
       "    .dataframe tbody tr th:only-of-type {\n",
       "        vertical-align: middle;\n",
       "    }\n",
       "\n",
       "    .dataframe tbody tr th {\n",
       "        vertical-align: top;\n",
       "    }\n",
       "\n",
       "    .dataframe thead th {\n",
       "        text-align: right;\n",
       "    }\n",
       "</style>\n",
       "<table border=\"1\" class=\"dataframe\">\n",
       "  <thead>\n",
       "    <tr style=\"text-align: right;\">\n",
       "      <th></th>\n",
       "      <th>PhraseId</th>\n",
       "      <th>SentenceId</th>\n",
       "      <th>Phrase</th>\n",
       "      <th>Sentiment</th>\n",
       "    </tr>\n",
       "  </thead>\n",
       "  <tbody>\n",
       "    <tr>\n",
       "      <th>0</th>\n",
       "      <td>1</td>\n",
       "      <td>1</td>\n",
       "      <td>A series of escapades demonstrating the adage that what is good for the goose is also good for the gander , some of which occasionally amuses but none of which amounts to much of a story .</td>\n",
       "      <td>1</td>\n",
       "    </tr>\n",
       "    <tr>\n",
       "      <th>1</th>\n",
       "      <td>2</td>\n",
       "      <td>1</td>\n",
       "      <td>A series of escapades demonstrating the adage that what is good for the goose</td>\n",
       "      <td>2</td>\n",
       "    </tr>\n",
       "    <tr>\n",
       "      <th>2</th>\n",
       "      <td>3</td>\n",
       "      <td>1</td>\n",
       "      <td>A series</td>\n",
       "      <td>2</td>\n",
       "    </tr>\n",
       "    <tr>\n",
       "      <th>3</th>\n",
       "      <td>4</td>\n",
       "      <td>1</td>\n",
       "      <td>A</td>\n",
       "      <td>2</td>\n",
       "    </tr>\n",
       "    <tr>\n",
       "      <th>4</th>\n",
       "      <td>5</td>\n",
       "      <td>1</td>\n",
       "      <td>series</td>\n",
       "      <td>2</td>\n",
       "    </tr>\n",
       "  </tbody>\n",
       "</table>\n",
       "</div>"
      ],
      "text/plain": [
       "   PhraseId  SentenceId  \\\n",
       "0         1           1   \n",
       "1         2           1   \n",
       "2         3           1   \n",
       "3         4           1   \n",
       "4         5           1   \n",
       "\n",
       "                                                                                                                                                                                         Phrase  \\\n",
       "0  A series of escapades demonstrating the adage that what is good for the goose is also good for the gander , some of which occasionally amuses but none of which amounts to much of a story .   \n",
       "1                                                                                                                 A series of escapades demonstrating the adage that what is good for the goose   \n",
       "2                                                                                                                                                                                      A series   \n",
       "3                                                                                                                                                                                             A   \n",
       "4                                                                                                                                                                                        series   \n",
       "\n",
       "   Sentiment  \n",
       "0          1  \n",
       "1          2  \n",
       "2          2  \n",
       "3          2  \n",
       "4          2  "
      ]
     },
     "execution_count": 8,
     "metadata": {},
     "output_type": "execute_result"
    }
   ],
   "source": [
    "#https://stackoverflow.com/questions/9652832/how-to-load-a-tsv-file-into-a-pandas-dataframe\n",
    "#building training dataframe from .tsv file\n",
    "df_train = pd.read_csv('./train.tsv', sep='\\t')\n",
    "df_train.head()"
   ]
  },
  {
   "cell_type": "code",
   "execution_count": 9,
   "id": "876ee458-68ef-45b3-9737-24f0aac98b13",
   "metadata": {},
   "outputs": [
    {
     "data": {
      "text/plain": [
       "(156060, 4)"
      ]
     },
     "execution_count": 9,
     "metadata": {},
     "output_type": "execute_result"
    }
   ],
   "source": [
    "#checking out the number of rows:\n",
    "df_train.shape"
   ]
  },
  {
   "cell_type": "code",
   "execution_count": 10,
   "id": "2d797e55-3f21-49d1-af63-2e94937d92e2",
   "metadata": {},
   "outputs": [
    {
     "name": "stdout",
     "output_type": "stream",
     "text": [
      "<class 'pandas.core.frame.DataFrame'>\n",
      "RangeIndex: 156060 entries, 0 to 156059\n",
      "Data columns (total 4 columns):\n",
      " #   Column      Non-Null Count   Dtype \n",
      "---  ------      --------------   ----- \n",
      " 0   PhraseId    156060 non-null  int64 \n",
      " 1   SentenceId  156060 non-null  int64 \n",
      " 2   Phrase      156060 non-null  object\n",
      " 3   Sentiment   156060 non-null  int64 \n",
      "dtypes: int64(3), object(1)\n",
      "memory usage: 4.8+ MB\n"
     ]
    }
   ],
   "source": [
    "#checking out nulls and dtypes:\n",
    "df_train.info()"
   ]
  },
  {
   "cell_type": "code",
   "execution_count": 11,
   "id": "49cd4b56-b8f7-453a-91c1-7f3a64e4540e",
   "metadata": {},
   "outputs": [
    {
     "data": {
      "text/html": [
       "<div>\n",
       "<style scoped>\n",
       "    .dataframe tbody tr th:only-of-type {\n",
       "        vertical-align: middle;\n",
       "    }\n",
       "\n",
       "    .dataframe tbody tr th {\n",
       "        vertical-align: top;\n",
       "    }\n",
       "\n",
       "    .dataframe thead th {\n",
       "        text-align: right;\n",
       "    }\n",
       "</style>\n",
       "<table border=\"1\" class=\"dataframe\">\n",
       "  <thead>\n",
       "    <tr style=\"text-align: right;\">\n",
       "      <th></th>\n",
       "      <th>PhraseId</th>\n",
       "      <th>SentenceId</th>\n",
       "      <th>Phrase</th>\n",
       "      <th>Sentiment</th>\n",
       "    </tr>\n",
       "  </thead>\n",
       "  <tbody>\n",
       "    <tr>\n",
       "      <th>0</th>\n",
       "      <td>1</td>\n",
       "      <td>1</td>\n",
       "      <td>A series of escapades demonstrating the adage that what is good for the goose is also good for the gander , some of which occasionally amuses but none of which amounts to much of a story .</td>\n",
       "      <td>1</td>\n",
       "    </tr>\n",
       "    <tr>\n",
       "      <th>1</th>\n",
       "      <td>2</td>\n",
       "      <td>1</td>\n",
       "      <td>A series of escapades demonstrating the adage that what is good for the goose</td>\n",
       "      <td>2</td>\n",
       "    </tr>\n",
       "    <tr>\n",
       "      <th>2</th>\n",
       "      <td>3</td>\n",
       "      <td>1</td>\n",
       "      <td>A series</td>\n",
       "      <td>2</td>\n",
       "    </tr>\n",
       "    <tr>\n",
       "      <th>3</th>\n",
       "      <td>4</td>\n",
       "      <td>1</td>\n",
       "      <td>A</td>\n",
       "      <td>2</td>\n",
       "    </tr>\n",
       "    <tr>\n",
       "      <th>4</th>\n",
       "      <td>5</td>\n",
       "      <td>1</td>\n",
       "      <td>series</td>\n",
       "      <td>2</td>\n",
       "    </tr>\n",
       "    <tr>\n",
       "      <th>...</th>\n",
       "      <td>...</td>\n",
       "      <td>...</td>\n",
       "      <td>...</td>\n",
       "      <td>...</td>\n",
       "    </tr>\n",
       "    <tr>\n",
       "      <th>58</th>\n",
       "      <td>59</td>\n",
       "      <td>1</td>\n",
       "      <td>much</td>\n",
       "      <td>2</td>\n",
       "    </tr>\n",
       "    <tr>\n",
       "      <th>59</th>\n",
       "      <td>60</td>\n",
       "      <td>1</td>\n",
       "      <td>of a story</td>\n",
       "      <td>2</td>\n",
       "    </tr>\n",
       "    <tr>\n",
       "      <th>60</th>\n",
       "      <td>61</td>\n",
       "      <td>1</td>\n",
       "      <td>a story</td>\n",
       "      <td>2</td>\n",
       "    </tr>\n",
       "    <tr>\n",
       "      <th>61</th>\n",
       "      <td>62</td>\n",
       "      <td>1</td>\n",
       "      <td>story</td>\n",
       "      <td>2</td>\n",
       "    </tr>\n",
       "    <tr>\n",
       "      <th>62</th>\n",
       "      <td>63</td>\n",
       "      <td>1</td>\n",
       "      <td>.</td>\n",
       "      <td>2</td>\n",
       "    </tr>\n",
       "  </tbody>\n",
       "</table>\n",
       "<p>63 rows × 4 columns</p>\n",
       "</div>"
      ],
      "text/plain": [
       "    PhraseId  SentenceId  \\\n",
       "0          1           1   \n",
       "1          2           1   \n",
       "2          3           1   \n",
       "3          4           1   \n",
       "4          5           1   \n",
       "..       ...         ...   \n",
       "58        59           1   \n",
       "59        60           1   \n",
       "60        61           1   \n",
       "61        62           1   \n",
       "62        63           1   \n",
       "\n",
       "                                                                                                                                                                                          Phrase  \\\n",
       "0   A series of escapades demonstrating the adage that what is good for the goose is also good for the gander , some of which occasionally amuses but none of which amounts to much of a story .   \n",
       "1                                                                                                                  A series of escapades demonstrating the adage that what is good for the goose   \n",
       "2                                                                                                                                                                                       A series   \n",
       "3                                                                                                                                                                                              A   \n",
       "4                                                                                                                                                                                         series   \n",
       "..                                                                                                                                                                                           ...   \n",
       "58                                                                                                                                                                                          much   \n",
       "59                                                                                                                                                                                    of a story   \n",
       "60                                                                                                                                                                                       a story   \n",
       "61                                                                                                                                                                                         story   \n",
       "62                                                                                                                                                                                             .   \n",
       "\n",
       "    Sentiment  \n",
       "0           1  \n",
       "1           2  \n",
       "2           2  \n",
       "3           2  \n",
       "4           2  \n",
       "..        ...  \n",
       "58          2  \n",
       "59          2  \n",
       "60          2  \n",
       "61          2  \n",
       "62          2  \n",
       "\n",
       "[63 rows x 4 columns]"
      ]
     },
     "execution_count": 11,
     "metadata": {},
     "output_type": "execute_result"
    }
   ],
   "source": [
    "#looking at all instances where 'SentenceId' = 1\n",
    "df_train[df_train['SentenceId'] == 1]"
   ]
  },
  {
   "cell_type": "code",
   "execution_count": 12,
   "id": "62e49bd9-bb42-4728-a747-aabbc6560708",
   "metadata": {},
   "outputs": [
    {
     "data": {
      "text/html": [
       "<div>\n",
       "<style scoped>\n",
       "    .dataframe tbody tr th:only-of-type {\n",
       "        vertical-align: middle;\n",
       "    }\n",
       "\n",
       "    .dataframe tbody tr th {\n",
       "        vertical-align: top;\n",
       "    }\n",
       "\n",
       "    .dataframe thead th {\n",
       "        text-align: right;\n",
       "    }\n",
       "</style>\n",
       "<table border=\"1\" class=\"dataframe\">\n",
       "  <thead>\n",
       "    <tr style=\"text-align: right;\">\n",
       "      <th></th>\n",
       "      <th>PhraseId</th>\n",
       "      <th>SentenceId</th>\n",
       "      <th>Phrase</th>\n",
       "    </tr>\n",
       "  </thead>\n",
       "  <tbody>\n",
       "    <tr>\n",
       "      <th>0</th>\n",
       "      <td>156061</td>\n",
       "      <td>8545</td>\n",
       "      <td>An intermittently pleasing but mostly routine effort .</td>\n",
       "    </tr>\n",
       "    <tr>\n",
       "      <th>1</th>\n",
       "      <td>156062</td>\n",
       "      <td>8545</td>\n",
       "      <td>An intermittently pleasing but mostly routine effort</td>\n",
       "    </tr>\n",
       "    <tr>\n",
       "      <th>2</th>\n",
       "      <td>156063</td>\n",
       "      <td>8545</td>\n",
       "      <td>An</td>\n",
       "    </tr>\n",
       "    <tr>\n",
       "      <th>3</th>\n",
       "      <td>156064</td>\n",
       "      <td>8545</td>\n",
       "      <td>intermittently pleasing but mostly routine effort</td>\n",
       "    </tr>\n",
       "    <tr>\n",
       "      <th>4</th>\n",
       "      <td>156065</td>\n",
       "      <td>8545</td>\n",
       "      <td>intermittently pleasing but mostly routine</td>\n",
       "    </tr>\n",
       "  </tbody>\n",
       "</table>\n",
       "</div>"
      ],
      "text/plain": [
       "   PhraseId  SentenceId  \\\n",
       "0    156061        8545   \n",
       "1    156062        8545   \n",
       "2    156063        8545   \n",
       "3    156064        8545   \n",
       "4    156065        8545   \n",
       "\n",
       "                                                   Phrase  \n",
       "0  An intermittently pleasing but mostly routine effort .  \n",
       "1    An intermittently pleasing but mostly routine effort  \n",
       "2                                                      An  \n",
       "3       intermittently pleasing but mostly routine effort  \n",
       "4              intermittently pleasing but mostly routine  "
      ]
     },
     "execution_count": 12,
     "metadata": {},
     "output_type": "execute_result"
    }
   ],
   "source": [
    "#building testing dataframe from .tsv file\n",
    "df_test = pd.read_csv('./test.tsv', sep = '\\t')\n",
    "df_test.head()"
   ]
  },
  {
   "cell_type": "code",
   "execution_count": 13,
   "id": "4483f9b0-86d2-43ce-b3da-cddbaa8e6ebe",
   "metadata": {},
   "outputs": [
    {
     "data": {
      "text/plain": [
       "(66292, 3)"
      ]
     },
     "execution_count": 13,
     "metadata": {},
     "output_type": "execute_result"
    }
   ],
   "source": [
    "#checking out the number of rows:\n",
    "df_test.shape"
   ]
  },
  {
   "cell_type": "code",
   "execution_count": 14,
   "id": "6a4a39f6-8008-4707-84e3-c4832d24a707",
   "metadata": {},
   "outputs": [
    {
     "data": {
      "text/plain": [
       "2    0.509945\n",
       "3    0.210989\n",
       "1    0.174760\n",
       "4    0.058990\n",
       "0    0.045316\n",
       "Name: Sentiment, dtype: float64"
      ]
     },
     "execution_count": 14,
     "metadata": {},
     "output_type": "execute_result"
    }
   ],
   "source": [
    "#baseline model for predictions:\n",
    "df_train['Sentiment'].value_counts(normalize = True)"
   ]
  },
  {
   "cell_type": "code",
   "execution_count": 15,
   "id": "05457c36-b1a2-4fb4-849b-d6723f63d3f0",
   "metadata": {},
   "outputs": [
    {
     "data": {
      "text/plain": [
       "8529"
      ]
     },
     "execution_count": 15,
     "metadata": {},
     "output_type": "execute_result"
    }
   ],
   "source": [
    "#number of unique sentences:\n",
    "df_train['SentenceId'].nunique()"
   ]
  },
  {
   "cell_type": "code",
   "execution_count": 16,
   "id": "178d6085-b13a-4d78-a4c5-b537839b7720",
   "metadata": {},
   "outputs": [
    {
     "data": {
      "text/html": [
       "<div>\n",
       "<style scoped>\n",
       "    .dataframe tbody tr th:only-of-type {\n",
       "        vertical-align: middle;\n",
       "    }\n",
       "\n",
       "    .dataframe tbody tr th {\n",
       "        vertical-align: top;\n",
       "    }\n",
       "\n",
       "    .dataframe thead th {\n",
       "        text-align: right;\n",
       "    }\n",
       "</style>\n",
       "<table border=\"1\" class=\"dataframe\">\n",
       "  <thead>\n",
       "    <tr style=\"text-align: right;\">\n",
       "      <th></th>\n",
       "      <th>mean</th>\n",
       "      <th>std</th>\n",
       "      <th>min</th>\n",
       "      <th>25%</th>\n",
       "      <th>50%</th>\n",
       "      <th>75%</th>\n",
       "      <th>max</th>\n",
       "    </tr>\n",
       "  </thead>\n",
       "  <tbody>\n",
       "    <tr>\n",
       "      <th>PhraseId</th>\n",
       "      <td>78030.500000</td>\n",
       "      <td>45050.785842</td>\n",
       "      <td>1.0</td>\n",
       "      <td>39015.75</td>\n",
       "      <td>78030.5</td>\n",
       "      <td>117045.25</td>\n",
       "      <td>156060.0</td>\n",
       "    </tr>\n",
       "    <tr>\n",
       "      <th>SentenceId</th>\n",
       "      <td>4079.732744</td>\n",
       "      <td>2502.764394</td>\n",
       "      <td>1.0</td>\n",
       "      <td>1861.75</td>\n",
       "      <td>4017.0</td>\n",
       "      <td>6244.00</td>\n",
       "      <td>8544.0</td>\n",
       "    </tr>\n",
       "    <tr>\n",
       "      <th>Sentiment</th>\n",
       "      <td>2.063578</td>\n",
       "      <td>0.893832</td>\n",
       "      <td>0.0</td>\n",
       "      <td>2.00</td>\n",
       "      <td>2.0</td>\n",
       "      <td>3.00</td>\n",
       "      <td>4.0</td>\n",
       "    </tr>\n",
       "  </tbody>\n",
       "</table>\n",
       "</div>"
      ],
      "text/plain": [
       "                    mean           std  min       25%      50%        75%  \\\n",
       "PhraseId    78030.500000  45050.785842  1.0  39015.75  78030.5  117045.25   \n",
       "SentenceId   4079.732744   2502.764394  1.0   1861.75   4017.0    6244.00   \n",
       "Sentiment       2.063578      0.893832  0.0      2.00      2.0       3.00   \n",
       "\n",
       "                 max  \n",
       "PhraseId    156060.0  \n",
       "SentenceId    8544.0  \n",
       "Sentiment        4.0  "
      ]
     },
     "execution_count": 16,
     "metadata": {},
     "output_type": "execute_result"
    }
   ],
   "source": [
    "#descriptive stats:\n",
    "df_train.describe().drop('count').T"
   ]
  },
  {
   "cell_type": "code",
   "execution_count": 17,
   "id": "e6aececc-5bfd-4aca-9e81-f334ed3d227a",
   "metadata": {},
   "outputs": [
    {
     "data": {
      "image/png": "[encoded data removed]",
      "text/plain": [
       "<Figure size 432x288 with 1 Axes>"
      ]
     },
     "metadata": {
      "needs_background": "light"
     },
     "output_type": "display_data"
    }
   ],
   "source": [
    "#beautiful bell curve!\n",
    "sns.histplot(data = df_train, x = 'Sentiment', binwidth = .5, binrange = (0,5))\n",
    "plt.title('Frequency of Sentiment Scores');"
   ]
  },
  {
   "cell_type": "code",
   "execution_count": 18,
   "id": "9f8538e9-705f-4002-81c7-7267f09aeaca",
   "metadata": {},
   "outputs": [
    {
     "data": {
      "text/html": [
       "<div>\n",
       "<style scoped>\n",
       "    .dataframe tbody tr th:only-of-type {\n",
       "        vertical-align: middle;\n",
       "    }\n",
       "\n",
       "    .dataframe tbody tr th {\n",
       "        vertical-align: top;\n",
       "    }\n",
       "\n",
       "    .dataframe thead th {\n",
       "        text-align: right;\n",
       "    }\n",
       "</style>\n",
       "<table border=\"1\" class=\"dataframe\">\n",
       "  <thead>\n",
       "    <tr style=\"text-align: right;\">\n",
       "      <th></th>\n",
       "      <th>Phrase</th>\n",
       "    </tr>\n",
       "  </thead>\n",
       "  <tbody>\n",
       "    <tr>\n",
       "      <th>15529</th>\n",
       "      <td>A sleek advert for youthful anomie that never quite equals the sum of its pretensions .</td>\n",
       "    </tr>\n",
       "    <tr>\n",
       "      <th>15530</th>\n",
       "      <td>A sleek advert for youthful anomie</td>\n",
       "    </tr>\n",
       "    <tr>\n",
       "      <th>15531</th>\n",
       "      <td>A sleek advert</td>\n",
       "    </tr>\n",
       "    <tr>\n",
       "      <th>15532</th>\n",
       "      <td>sleek advert</td>\n",
       "    </tr>\n",
       "    <tr>\n",
       "      <th>15533</th>\n",
       "      <td>advert</td>\n",
       "    </tr>\n",
       "    <tr>\n",
       "      <th>15534</th>\n",
       "      <td>for youthful anomie</td>\n",
       "    </tr>\n",
       "    <tr>\n",
       "      <th>15535</th>\n",
       "      <td>youthful anomie</td>\n",
       "    </tr>\n",
       "    <tr>\n",
       "      <th>15536</th>\n",
       "      <td>youthful</td>\n",
       "    </tr>\n",
       "    <tr>\n",
       "      <th>15537</th>\n",
       "      <td>anomie</td>\n",
       "    </tr>\n",
       "    <tr>\n",
       "      <th>15538</th>\n",
       "      <td>that never quite equals the sum of its pretensions .</td>\n",
       "    </tr>\n",
       "    <tr>\n",
       "      <th>15539</th>\n",
       "      <td>that never quite</td>\n",
       "    </tr>\n",
       "    <tr>\n",
       "      <th>15540</th>\n",
       "      <td>equals the sum of its pretensions .</td>\n",
       "    </tr>\n",
       "    <tr>\n",
       "      <th>15541</th>\n",
       "      <td>equals the sum of its pretensions</td>\n",
       "    </tr>\n",
       "    <tr>\n",
       "      <th>15542</th>\n",
       "      <td>equals</td>\n",
       "    </tr>\n",
       "    <tr>\n",
       "      <th>15543</th>\n",
       "      <td>the sum of its pretensions</td>\n",
       "    </tr>\n",
       "    <tr>\n",
       "      <th>15544</th>\n",
       "      <td>the sum</td>\n",
       "    </tr>\n",
       "    <tr>\n",
       "      <th>15545</th>\n",
       "      <td>sum</td>\n",
       "    </tr>\n",
       "    <tr>\n",
       "      <th>15546</th>\n",
       "      <td>of its pretensions</td>\n",
       "    </tr>\n",
       "    <tr>\n",
       "      <th>15547</th>\n",
       "      <td>its pretensions</td>\n",
       "    </tr>\n",
       "  </tbody>\n",
       "</table>\n",
       "</div>"
      ],
      "text/plain": [
       "                                                                                        Phrase\n",
       "15529  A sleek advert for youthful anomie that never quite equals the sum of its pretensions .\n",
       "15530                                                       A sleek advert for youthful anomie\n",
       "15531                                                                           A sleek advert\n",
       "15532                                                                             sleek advert\n",
       "15533                                                                                   advert\n",
       "15534                                                                      for youthful anomie\n",
       "15535                                                                          youthful anomie\n",
       "15536                                                                                 youthful\n",
       "15537                                                                                   anomie\n",
       "15538                                     that never quite equals the sum of its pretensions .\n",
       "15539                                                                         that never quite\n",
       "15540                                                      equals the sum of its pretensions .\n",
       "15541                                                        equals the sum of its pretensions\n",
       "15542                                                                                   equals\n",
       "15543                                                               the sum of its pretensions\n",
       "15544                                                                                  the sum\n",
       "15545                                                                                      sum\n",
       "15546                                                                       of its pretensions\n",
       "15547                                                                          its pretensions"
      ]
     },
     "execution_count": 18,
     "metadata": {},
     "output_type": "execute_result"
    }
   ],
   "source": [
    "pd.DataFrame(df_train['Phrase'][df_train.SentenceId == 666])\n",
    "#noting that the first instance of each unique SentenceId\n",
    "#is the full review. "
   ]
  },
  {
   "cell_type": "code",
   "execution_count": 15,
   "id": "7c952243-d34e-46b5-8fc2-71dc1a090ac9",
   "metadata": {},
   "outputs": [
    {
     "data": {
      "text/html": [
       "<div>\n",
       "<style scoped>\n",
       "    .dataframe tbody tr th:only-of-type {\n",
       "        vertical-align: middle;\n",
       "    }\n",
       "\n",
       "    .dataframe tbody tr th {\n",
       "        vertical-align: top;\n",
       "    }\n",
       "\n",
       "    .dataframe thead th {\n",
       "        text-align: right;\n",
       "    }\n",
       "</style>\n",
       "<table border=\"1\" class=\"dataframe\">\n",
       "  <thead>\n",
       "    <tr style=\"text-align: right;\">\n",
       "      <th></th>\n",
       "      <th>PhraseId</th>\n",
       "      <th>SentenceId</th>\n",
       "      <th>Phrase</th>\n",
       "      <th>Sentiment</th>\n",
       "    </tr>\n",
       "  </thead>\n",
       "  <tbody>\n",
       "    <tr>\n",
       "      <th>0</th>\n",
       "      <td>1</td>\n",
       "      <td>1</td>\n",
       "      <td>A series of escapades demonstrating the adage that what is good for the goose is also good for the gander , some of which occasionally amuses but none of which amounts to much of a story .</td>\n",
       "      <td>1</td>\n",
       "    </tr>\n",
       "    <tr>\n",
       "      <th>63</th>\n",
       "      <td>64</td>\n",
       "      <td>2</td>\n",
       "      <td>This quiet , introspective and entertaining independent is worth seeking .</td>\n",
       "      <td>4</td>\n",
       "    </tr>\n",
       "    <tr>\n",
       "      <th>81</th>\n",
       "      <td>82</td>\n",
       "      <td>3</td>\n",
       "      <td>Even fans of Ismail Merchant 's work , I suspect , would have a hard time sitting through this one .</td>\n",
       "      <td>1</td>\n",
       "    </tr>\n",
       "    <tr>\n",
       "      <th>116</th>\n",
       "      <td>117</td>\n",
       "      <td>4</td>\n",
       "      <td>A positively thrilling combination of ethnography and all the intrigue , betrayal , deceit and murder of a Shakespearean tragedy or a juicy soap opera .</td>\n",
       "      <td>3</td>\n",
       "    </tr>\n",
       "    <tr>\n",
       "      <th>156</th>\n",
       "      <td>157</td>\n",
       "      <td>5</td>\n",
       "      <td>Aggressive self-glorification and a manipulative whitewash .</td>\n",
       "      <td>1</td>\n",
       "    </tr>\n",
       "  </tbody>\n",
       "</table>\n",
       "</div>"
      ],
      "text/plain": [
       "     PhraseId  SentenceId  \\\n",
       "0           1           1   \n",
       "63         64           2   \n",
       "81         82           3   \n",
       "116       117           4   \n",
       "156       157           5   \n",
       "\n",
       "                                                                                                                                                                                           Phrase  \\\n",
       "0    A series of escapades demonstrating the adage that what is good for the goose is also good for the gander , some of which occasionally amuses but none of which amounts to much of a story .   \n",
       "63                                                                                                                     This quiet , introspective and entertaining independent is worth seeking .   \n",
       "81                                                                                           Even fans of Ismail Merchant 's work , I suspect , would have a hard time sitting through this one .   \n",
       "116                                      A positively thrilling combination of ethnography and all the intrigue , betrayal , deceit and murder of a Shakespearean tragedy or a juicy soap opera .   \n",
       "156                                                                                                                                  Aggressive self-glorification and a manipulative whitewash .   \n",
       "\n",
       "     Sentiment  \n",
       "0            1  \n",
       "63           4  \n",
       "81           1  \n",
       "116          3  \n",
       "156          1  "
      ]
     },
     "execution_count": 15,
     "metadata": {},
     "output_type": "execute_result"
    }
   ],
   "source": [
    "#building a working_df that's dropping the dups on df_train\n",
    "working_df = df_train.drop_duplicates(subset = 'SentenceId')\n",
    "working_df.head()"
   ]
  },
  {
   "cell_type": "code",
   "execution_count": 16,
   "id": "56950cc8-770c-42cf-a510-aa7ada869de2",
   "metadata": {},
   "outputs": [],
   "source": [
    "#using bag of words to find and build on additional stop words:\n",
    "cvec = CountVectorizer(analyzer = 'word', stop_words = 'english', max_features = 50)\n",
    "\n",
    "# input for CountVectorizer is an array of strings\n",
    "working_df = working_df['Phrase']\n",
    "\n",
    "# fit_transform the vectorizer\n",
    "working_words = cvec.fit_transform(working_df)\n",
    "\n",
    "# convert output to a Numpy array\n",
    "working_words = working_words.toarray()"
   ]
  },
  {
   "cell_type": "code",
   "execution_count": 17,
   "id": "0a560f29-8166-4853-86f0-d64552420824",
   "metadata": {},
   "outputs": [
    {
     "name": "stdout",
     "output_type": "stream",
     "text": [
      "['action', 'audience', 'bad', 'best', 'better', 'big', 'cast', 'character', 'characters', 'comedy', 'director', 'does', 'drama', 'feel', 'film', 'films', 'fun', 'funny', 'good', 'great', 'hard', 'just', 'life', 'like', 'little', 'long', 'look', 'love', 'lrb', 'make', 'makes', 'man', 'movie', 'movies', 'new', 'old', 'people', 'performance', 'performances', 'plot', 'real', 'really', 'rrb', 'self', 'sense', 'story', 'time', 'way', 'work', 'world']\n"
     ]
    }
   ],
   "source": [
    "#most common words from 'working_words':\n",
    "working_words = cvec.get_feature_names()\n",
    "print(working_words)"
   ]
  },
  {
   "cell_type": "code",
   "execution_count": 75,
   "id": "cae5ceee-935f-4193-ac35-95ca1cfcfe3e",
   "metadata": {},
   "outputs": [],
   "source": [
    "#Most common words where 'Sentiment' = 2\n",
    "#using bag of words to find and build on additional stop words:\n",
    "cvec = CountVectorizer(analyzer = 'word', stop_words = 'english', max_features = 50) \n",
    "\n",
    "df_sentiment2 = df_train[df_train['Sentiment'] == 2]['Phrase']\n",
    "\n",
    "# fit_transform the vectorizer\n",
    "sentiment2_words = cvec.fit_transform(df_sentiment2)\n",
    "\n",
    "# convert output to a Numpy array\n",
    "sentiment2_words = sentiment2_words.toarray()"
   ]
  },
  {
   "cell_type": "code",
   "execution_count": 76,
   "id": "2c1d6ec8-35c2-4932-aeef-4496590cc0bf",
   "metadata": {},
   "outputs": [
    {
     "name": "stdout",
     "output_type": "stream",
     "text": [
      "['action', 'american', 'audience', 'bad', 'better', 'big', 'character', 'characters', 'comedy', 'director', 'does', 'drama', 'family', 'film', 'films', 'good', 'hollywood', 'human', 'just', 'life', 'like', 'little', 'long', 'look', 'love', 'lrb', 'make', 'man', 'minutes', 'movie', 'movies', 'new', 'old', 'people', 'plot', 'real', 'rrb', 'screen', 'seen', 'self', 'sense', 'story', 'things', 'time', 'war', 'way', 'work', 'world', 'year', 'young']\n"
     ]
    }
   ],
   "source": [
    "#most common words from where 'Sentiment' = 2:\n",
    "sentiment2_words = cvec.get_feature_names()\n",
    "print(sentiment2_words)"
   ]
  },
  {
   "cell_type": "code",
   "execution_count": 20,
   "id": "84c4305c-bd31-49f6-a60a-c24a5a56a988",
   "metadata": {},
   "outputs": [
    {
     "data": {
      "text/plain": [
       "the      7282\n",
       "and      4474\n",
       "of       4398\n",
       "to       3025\n",
       "is       2542\n",
       "it       2411\n",
       "that     1938\n",
       "in       1898\n",
       "as       1284\n",
       "but      1168\n",
       "film     1154\n",
       "with     1132\n",
       "for      1033\n",
       "movie    1008\n",
       "this      994\n",
       "an        962\n",
       "its       934\n",
       "you       853\n",
       "be        676\n",
       "on        651\n",
       "not       608\n",
       "one       576\n",
       "by        559\n",
       "about     534\n",
       "has       527\n",
       "dtype: int64"
      ]
     },
     "execution_count": 20,
     "metadata": {},
     "output_type": "execute_result"
    }
   ],
   "source": [
    "# top 25 words - no stop words\n",
    "cvec_working_no_stop = CountVectorizer()\n",
    "X_working_cvec_no_stop = cvec_working_no_stop.fit_transform(working_df)\n",
    "X_working_cvec_df_no_stop = pd.DataFrame(X_working_cvec_no_stop.todense(), columns = cvec_working_no_stop.get_feature_names())\n",
    "X_working_cvec_df_no_stop.head()\n",
    "\n",
    "top25_words_no_stop = X_working_cvec_df_no_stop.sum().sort_values(ascending = False)[:25]\n",
    "top25_words_no_stop"
   ]
  },
  {
   "cell_type": "code",
   "execution_count": 21,
   "id": "7917b9dc-4d80-4038-9b5e-093c1aebc4d4",
   "metadata": {},
   "outputs": [],
   "source": [
    "#forgot stop words import from sklearn at document head:\n",
    "from sklearn.feature_extraction import text\n",
    "\n",
    "stop_words = text.ENGLISH_STOP_WORDS"
   ]
  },
  {
   "cell_type": "code",
   "execution_count": 22,
   "id": "e240e6f4-8444-4d4c-846f-b01242fbbeda",
   "metadata": {},
   "outputs": [
    {
     "data": {
      "text/plain": [
       "film          1154\n",
       "movie         1008\n",
       "like           504\n",
       "rrb            352\n",
       "lrb            351\n",
       "story          350\n",
       "does           307\n",
       "good           294\n",
       "just           292\n",
       "comedy         264\n",
       "time           250\n",
       "characters     233\n",
       "funny          222\n",
       "director       217\n",
       "little         216\n",
       "way            203\n",
       "make           196\n",
       "life           186\n",
       "work           179\n",
       "makes          174\n",
       "love           174\n",
       "bad            173\n",
       "best           165\n",
       "movies         159\n",
       "new            153\n",
       "dtype: int64"
      ]
     },
     "execution_count": 22,
     "metadata": {},
     "output_type": "execute_result"
    }
   ],
   "source": [
    "# top 25 words - with stop words (from sklearn)\n",
    "cvec_working_no_stop = CountVectorizer(stop_words = stop_words)\n",
    "X_working_cvec_no_stop = cvec_working_no_stop.fit_transform(working_df)\n",
    "X_working_cvec_df_no_stop = pd.DataFrame(X_working_cvec_no_stop.todense(), columns = cvec_working_no_stop.get_feature_names())\n",
    "X_working_cvec_df_no_stop.head()\n",
    "\n",
    "top25_words_no_stop = X_working_cvec_df_no_stop.sum().sort_values(ascending = False)[:25]\n",
    "top25_words_no_stop"
   ]
  },
  {
   "cell_type": "code",
   "execution_count": 2,
   "id": "79663169-2450-4074-ab82-543a80b565c0",
   "metadata": {},
   "outputs": [],
   "source": [
    "#Run by Kathy Simon:\n",
    "#group sentiment into 0, 1 -> 1 (negative); 2 remains 2 (neutral); 3, 4 -> 3 (positive)\n",
    "\n",
    "#group_df = working_df.copy()\n",
    "#group_df['Sentiment'] = group_df['Sentiment'].map({0: 'Negative', 1: 'Negative', 2: 'Neutral', 3: 'Positive', 4: 'Positive'})\n",
    "#group_df.head()"
   ]
  },
  {
   "cell_type": "markdown",
   "id": "51d75e22-b48b-4137-b98b-00bd6a1998cf",
   "metadata": {},
   "source": [
    "**Modeling**"
   ]
  },
  {
   "cell_type": "code",
   "execution_count": 23,
   "id": "23411b62-3fa7-4076-8189-b5acd2942dde",
   "metadata": {},
   "outputs": [
    {
     "data": {
      "text/plain": [
       "Index(['PhraseId', 'SentenceId', 'Phrase', 'Sentiment'], dtype='object')"
      ]
     },
     "execution_count": 23,
     "metadata": {},
     "output_type": "execute_result"
    }
   ],
   "source": [
    "#for ease of reference:\n",
    "df_train.columns"
   ]
  },
  {
   "cell_type": "code",
   "execution_count": 24,
   "id": "d12fb8d9-de7b-4118-bb42-c1dab2d33980",
   "metadata": {},
   "outputs": [],
   "source": [
    "#setting up features and target\n",
    "X = df_train['Phrase']\n",
    "y = df_train['Sentiment']\n",
    "\n",
    "#train_test_split\n",
    "X_train, X_test, y_train, y_test = train_test_split(X, y, \n",
    "                                                    test_size = 0.2,\n",
    "                                                    stratify = y)"
   ]
  },
  {
   "cell_type": "markdown",
   "id": "b2130f2b-b4d8-40f9-8c6b-579403e6ff97",
   "metadata": {},
   "source": [
    "1. CountVectorizer with LogReg"
   ]
  },
  {
   "cell_type": "code",
   "execution_count": 25,
   "id": "d9927bd6-9513-43d4-b1e4-470c31dab9e5",
   "metadata": {},
   "outputs": [],
   "source": [
    "#starting modeling with CountVectorizer to vectorizer 'Phrase'\n",
    "cvec = CountVectorizer(analyzer = 'word',                        \n",
    "                       stop_words = stop_words, \n",
    "                       max_features = 2000)\n",
    "lr = LogisticRegression(max_iter = 10_000)"
   ]
  },
  {
   "cell_type": "code",
   "execution_count": 26,
   "id": "360be6b7-57c8-4c9e-9ce0-5e2d16206970",
   "metadata": {},
   "outputs": [
    {
     "data": {
      "text/plain": [
       "(0.6265138408304498, 0.6037421504549533)"
      ]
     },
     "execution_count": 26,
     "metadata": {},
     "output_type": "execute_result"
    }
   ],
   "source": [
    "#pipeline for cvec with lr\n",
    "cvec_logreg_pipe = Pipeline([('cvec', cvec),\n",
    "               ('logreg', lr),\n",
    "              ])\n",
    "cvec_logreg_pipe.fit(X_train, y_train)\n",
    "cvec_logreg_pipe.score(X_train, y_train), cvec_logreg_pipe.score(X_test, y_test)"
   ]
  },
  {
   "cell_type": "markdown",
   "id": "aa3d0126-5ff4-4bd0-9fc8-dd28d4ea27bd",
   "metadata": {},
   "source": [
    "Running the Pipeline with different 'max_features' - Accuracy(train, test):\n",
    "* none  -   (0.714540881712162, 0.6431821094450852)\n",
    "* 500   -   (0.570277457388184, 0.5602973215429963)\n",
    "* 1000  -   (0.5952998846597463, 0.5779828271177753)\n",
    "* 2000  -   (0.6282119056773036, 0.6008586441112392)\n",
    "* 3000  -   (0.6448080866333461, 0.6134499551454569)"
   ]
  },
  {
   "cell_type": "code",
   "execution_count": 27,
   "id": "e52883e3-4be1-4dd4-9dd5-680558508b38",
   "metadata": {},
   "outputs": [],
   "source": [
    "#generating predictions:\n",
    "preds_0 = cvec_logreg_pipe.predict(X_test)"
   ]
  },
  {
   "cell_type": "code",
   "execution_count": 28,
   "id": "0c7afab9-237a-4a12-965c-7a148aa0d9fe",
   "metadata": {},
   "outputs": [
    {
     "name": "stdout",
     "output_type": "stream",
     "text": [
      "              precision    recall  f1-score   support\n",
      "\n",
      "           0       0.19      0.51      0.27       514\n",
      "           1       0.25      0.50      0.34      2789\n",
      "           2       0.89      0.64      0.74     22184\n",
      "           3       0.39      0.52      0.45      4907\n",
      "           4       0.25      0.56      0.34       818\n",
      "\n",
      "    accuracy                           0.60     31212\n",
      "   macro avg       0.39      0.55      0.43     31212\n",
      "weighted avg       0.73      0.60      0.64     31212\n",
      "\n"
     ]
    }
   ],
   "source": [
    "#printing classification report:\n",
    "print(classification_report(preds_0, y_test))"
   ]
  },
  {
   "cell_type": "code",
   "execution_count": 29,
   "id": "c5c4c4a0-3558-45d4-a070-3f1fd99c8aa5",
   "metadata": {},
   "outputs": [
    {
     "data": {
      "text/plain": [
       "<Figure size 576x576 with 0 Axes>"
      ]
     },
     "metadata": {},
     "output_type": "display_data"
    },
    {
     "data": {
      "image/png": "[encoded data removed]",
      "text/plain": [
       "<Figure size 432x288 with 2 Axes>"
      ]
     },
     "metadata": {
      "needs_background": "light"
     },
     "output_type": "display_data"
    }
   ],
   "source": [
    "#plotting confusion matrix:\n",
    "plt.figure(figsize = (8, 8));\n",
    "plot_confusion_matrix(cvec_logreg_pipe, \n",
    "                      X_test, y_test, \n",
    "                      cmap = 'viridis', \n",
    "                      values_format = 'd');"
   ]
  },
  {
   "cell_type": "markdown",
   "id": "b3f29629-2efb-44bd-a615-f6486eddbb05",
   "metadata": {},
   "source": [
    "- Exploring n-grams:"
   ]
  },
  {
   "cell_type": "code",
   "execution_count": 30,
   "id": "10001029-b831-48df-9051-fec0bd9ac6da",
   "metadata": {},
   "outputs": [],
   "source": [
    "cvec = CountVectorizer(analyzer = 'word',                        \n",
    "                       stop_words = stop_words, \n",
    "                       max_features = None,\n",
    "                       ngram_range = (2,3))\n",
    "lr = LogisticRegression(max_iter = 10_000)"
   ]
  },
  {
   "cell_type": "code",
   "execution_count": 31,
   "id": "13588675-348b-45a3-ad7c-76476e7ef83a",
   "metadata": {},
   "outputs": [
    {
     "data": {
      "text/plain": [
       "(0.7747661155965654, 0.6243752402921953)"
      ]
     },
     "execution_count": 31,
     "metadata": {},
     "output_type": "execute_result"
    }
   ],
   "source": [
    "#pipeline for cvec with lr, searching bi-grams and tri-grams\n",
    "cvec_logreg_pipe = Pipeline([('cvec', cvec),\n",
    "               ('logreg', lr)])\n",
    "\n",
    "cvec_logreg_pipe.fit(X_train, y_train)\n",
    "cvec_logreg_pipe.score(X_train, y_train), cvec_logreg_pipe.score(X_test, y_test)"
   ]
  },
  {
   "cell_type": "code",
   "execution_count": 32,
   "id": "90a20abc-3911-4ddc-9f0a-b3766c4709da",
   "metadata": {},
   "outputs": [],
   "source": [
    "#generating predictions:\n",
    "preds_1 = cvec_logreg_pipe.predict(X_test)"
   ]
  },
  {
   "cell_type": "code",
   "execution_count": 33,
   "id": "18ae0985-d92e-468d-993e-d6cf3e28c957",
   "metadata": {},
   "outputs": [
    {
     "name": "stdout",
     "output_type": "stream",
     "text": [
      "              precision    recall  f1-score   support\n",
      "\n",
      "           0       0.29      0.52      0.37       791\n",
      "           1       0.35      0.57      0.43      3392\n",
      "           2       0.89      0.65      0.75     21806\n",
      "           3       0.38      0.59      0.46      4241\n",
      "           4       0.30      0.57      0.39       982\n",
      "\n",
      "    accuracy                           0.62     31212\n",
      "   macro avg       0.44      0.58      0.48     31212\n",
      "weighted avg       0.73      0.62      0.65     31212\n",
      "\n"
     ]
    }
   ],
   "source": [
    "#printing classification report:\n",
    "print(classification_report(preds_1, y_test))"
   ]
  },
  {
   "cell_type": "code",
   "execution_count": 34,
   "id": "4c279a4e-2bcd-4c5c-880d-16ae8b193bdb",
   "metadata": {},
   "outputs": [
    {
     "data": {
      "text/plain": [
       "<Figure size 576x576 with 0 Axes>"
      ]
     },
     "metadata": {},
     "output_type": "display_data"
    },
    {
     "data": {
      "image/png": "[encoded data removed]",
      "text/plain": [
       "<Figure size 432x288 with 2 Axes>"
      ]
     },
     "metadata": {
      "needs_background": "light"
     },
     "output_type": "display_data"
    }
   ],
   "source": [
    "#plotting confusion matrix:\n",
    "plt.figure(figsize = (8, 8));\n",
    "plot_confusion_matrix(cvec_logreg_pipe, \n",
    "                      X_test, y_test, \n",
    "                      cmap = 'viridis', \n",
    "                      values_format = 'd');"
   ]
  },
  {
   "cell_type": "markdown",
   "id": "4a2045a9-ac21-4a87-b857-616966d21ffa",
   "metadata": {},
   "source": [
    "2. CountVectorizer with MultinomialNB"
   ]
  },
  {
   "cell_type": "code",
   "execution_count": 35,
   "id": "d06fed0e-d2a9-4de9-b057-93285624ab10",
   "metadata": {},
   "outputs": [],
   "source": [
    "#re-instatiating cvec, instantiating MultinomialNB\n",
    "cvec = CountVectorizer(analyzer = 'word',                        \n",
    "                       stop_words = stop_words, \n",
    "                       max_features = 2000)\n",
    "nb = MultinomialNB()"
   ]
  },
  {
   "cell_type": "code",
   "execution_count": 36,
   "id": "6f87cda2-9cb3-4a2b-b425-845c045d12f0",
   "metadata": {},
   "outputs": [
    {
     "data": {
      "text/plain": [
       "(0.604935601691657, 0.5887799564270153)"
      ]
     },
     "execution_count": 36,
     "metadata": {},
     "output_type": "execute_result"
    }
   ],
   "source": [
    "#pipeline for cvec with nb:\n",
    "cvec_nb_pipe = Pipeline([('cvec', cvec), \n",
    "                        ('nb', nb)])\n",
    "\n",
    "cvec_nb_pipe.fit(X_train, y_train)\n",
    "cvec_nb_pipe.score(X_train, y_train), cvec_nb_pipe.score(X_test, y_test)"
   ]
  },
  {
   "cell_type": "code",
   "execution_count": 37,
   "id": "3d5a7877-8513-4978-ac1d-28d30c54229d",
   "metadata": {},
   "outputs": [],
   "source": [
    "#generating predictions:\n",
    "preds_2 = cvec_nb_pipe.predict(X_test)"
   ]
  },
  {
   "cell_type": "code",
   "execution_count": 38,
   "id": "69ffdb50-1c6d-44df-8271-7aafcdf383c1",
   "metadata": {},
   "outputs": [
    {
     "name": "stdout",
     "output_type": "stream",
     "text": [
      "              precision    recall  f1-score   support\n",
      "\n",
      "           0       0.15      0.52      0.24       411\n",
      "           1       0.20      0.51      0.29      2184\n",
      "           2       0.91      0.61      0.73     23817\n",
      "           3       0.33      0.52      0.40      4178\n",
      "           4       0.19      0.56      0.28       622\n",
      "\n",
      "    accuracy                           0.59     31212\n",
      "   macro avg       0.36      0.54      0.39     31212\n",
      "weighted avg       0.76      0.59      0.64     31212\n",
      "\n"
     ]
    }
   ],
   "source": [
    "#printing classification report:\n",
    "print(classification_report(preds_2, y_test))"
   ]
  },
  {
   "cell_type": "code",
   "execution_count": 39,
   "id": "21c92b63-d515-4eab-bfb9-646649c1bfc4",
   "metadata": {},
   "outputs": [
    {
     "data": {
      "text/plain": [
       "<Figure size 576x576 with 0 Axes>"
      ]
     },
     "metadata": {},
     "output_type": "display_data"
    },
    {
     "data": {
      "image/png": "[encoded data removed]",
      "text/plain": [
       "<Figure size 432x288 with 2 Axes>"
      ]
     },
     "metadata": {
      "needs_background": "light"
     },
     "output_type": "display_data"
    }
   ],
   "source": [
    "#plotting confusion matrix:\n",
    "plt.figure(figsize = (8, 8));\n",
    "plot_confusion_matrix(cvec_nb_pipe, \n",
    "                      X_test, y_test, \n",
    "                      cmap = 'viridis', \n",
    "                      values_format = 'd');"
   ]
  },
  {
   "cell_type": "markdown",
   "id": "becbff33-154f-43a4-ae79-96bf2a305a0e",
   "metadata": {},
   "source": [
    "3. CountVectorizer with KNN"
   ]
  },
  {
   "cell_type": "code",
   "execution_count": 40,
   "id": "21e5e743-cc72-4568-a64b-b73daa460831",
   "metadata": {},
   "outputs": [],
   "source": [
    "cvec = CountVectorizer(analyzer = 'word',                        \n",
    "                       stop_words = stop_words )\n",
    "                       \n",
    "knn = KNeighborsClassifier()"
   ]
  },
  {
   "cell_type": "code",
   "execution_count": 41,
   "id": "66df22f7-b737-4447-b84b-ef8d9cd6ca7a",
   "metadata": {},
   "outputs": [
    {
     "data": {
      "text/plain": [
       "(0.7223263488401896, 0.6182878380110214)"
      ]
     },
     "execution_count": 41,
     "metadata": {},
     "output_type": "execute_result"
    }
   ],
   "source": [
    "#pipeline for cvec with knn:\n",
    "pipe_knn_cv = Pipeline([\n",
    "    ('cvec', cvec),\n",
    "    ('knn', knn)\n",
    "])\n",
    "\n",
    "pipe_knn_cv.fit(X_train, y_train)\n",
    "pipe_knn_cv.score(X_train, y_train), pipe_knn_cv.score(X_test, y_test)"
   ]
  },
  {
   "cell_type": "code",
   "execution_count": 42,
   "id": "2f6cbc57-75cf-49dd-a368-07a16ac118a5",
   "metadata": {},
   "outputs": [],
   "source": [
    "#generating predictions:\n",
    "preds_knn = pipe_knn_cv.predict(X_test)"
   ]
  },
  {
   "cell_type": "code",
   "execution_count": 43,
   "id": "0b2d9c52-9875-4d3b-89f1-4792f27bc935",
   "metadata": {},
   "outputs": [
    {
     "name": "stdout",
     "output_type": "stream",
     "text": [
      "              precision    recall  f1-score   support\n",
      "\n",
      "           0       0.33      0.48      0.39       966\n",
      "           1       0.39      0.53      0.45      4009\n",
      "           2       0.87      0.65      0.74     21143\n",
      "           3       0.38      0.57      0.45      4353\n",
      "           4       0.24      0.60      0.34       741\n",
      "\n",
      "    accuracy                           0.62     31212\n",
      "   macro avg       0.44      0.57      0.48     31212\n",
      "weighted avg       0.71      0.62      0.65     31212\n",
      "\n"
     ]
    }
   ],
   "source": [
    "#printing classification report:\n",
    "print(classification_report(preds_knn, y_test))"
   ]
  },
  {
   "cell_type": "code",
   "execution_count": 44,
   "id": "df54091c-3f7a-478c-90a1-9a3300a4e803",
   "metadata": {},
   "outputs": [
    {
     "data": {
      "text/plain": [
       "<Figure size 576x576 with 0 Axes>"
      ]
     },
     "metadata": {},
     "output_type": "display_data"
    },
    {
     "data": {
      "image/png": "[encoded data removed]",
      "text/plain": [
       "<Figure size 432x288 with 2 Axes>"
      ]
     },
     "metadata": {
      "needs_background": "light"
     },
     "output_type": "display_data"
    }
   ],
   "source": [
    "#plotting confusion matrix:\n",
    "plt.figure(figsize = (8, 8));\n",
    "plot_confusion_matrix(cvec_nb_pipe, \n",
    "                      X_test, y_test, \n",
    "                      cmap = 'viridis', \n",
    "                      values_format = 'd');"
   ]
  },
  {
   "cell_type": "markdown",
   "id": "546369bd-ad44-4f1e-acaa-066b4cece5a1",
   "metadata": {},
   "source": [
    "4. TF-IDF with LogReg"
   ]
  },
  {
   "cell_type": "code",
   "execution_count": 45,
   "id": "caa31f26-1fee-4476-805a-cfdb7195b72b",
   "metadata": {},
   "outputs": [],
   "source": [
    "#starting modeling with CountVectorizer to vectorizer 'body'\n",
    "tvec = TfidfVectorizer(analyzer = 'word',                        \n",
    "                       stop_words = stop_words, \n",
    "                       max_features = 3000)"
   ]
  },
  {
   "cell_type": "code",
   "execution_count": 46,
   "id": "fbabe2a9-219b-410d-a00c-97d5a35ebc22",
   "metadata": {},
   "outputs": [
    {
     "data": {
      "text/plain": [
       "(0.6333701781366141, 0.6099256696142509)"
      ]
     },
     "execution_count": 46,
     "metadata": {},
     "output_type": "execute_result"
    }
   ],
   "source": [
    "#pipeline for tvec with lr:\n",
    "tvec_lr_pipe = Pipeline([\n",
    "    ('tvec', tvec),\n",
    "    ('logreg', lr)])\n",
    "\n",
    "tvec_lr_pipe.fit(X_train, y_train)\n",
    "tvec_lr_pipe.score(X_train, y_train), tvec_lr_pipe.score(X_test, y_test)"
   ]
  },
  {
   "cell_type": "markdown",
   "id": "c59211cc-6aeb-408e-82c6-9396cee61620",
   "metadata": {},
   "source": [
    "Running the Pipeline with different 'max_features' - Accuracy(train, test):\n",
    "* none  -   (0.6822696398820967, 0.6323529411764706)\n",
    "* 500   -   (0.5672097270280662, 0.5618031526336025)\n",
    "* 1000  -   (0.588876073305139, 0.5803537101114956)\n",
    "* 2000  -   (0.6186562860438293, 0.5986479559143919)\n",
    "* 3000  -   (0.6333701781366141, 0.6099256696142509)"
   ]
  },
  {
   "cell_type": "code",
   "execution_count": 47,
   "id": "36cb3613-d6ea-4ccf-8fd0-9bc72106c7f8",
   "metadata": {},
   "outputs": [],
   "source": [
    "#generating predictions:\n",
    "preds_3 = tvec_lr_pipe.predict(X_test)"
   ]
  },
  {
   "cell_type": "code",
   "execution_count": 48,
   "id": "eb536d89-e9cc-447f-8ed7-5048bd85dd51",
   "metadata": {},
   "outputs": [
    {
     "name": "stdout",
     "output_type": "stream",
     "text": [
      "              precision    recall  f1-score   support\n",
      "\n",
      "           0       0.17      0.56      0.26       432\n",
      "           1       0.29      0.50      0.37      3112\n",
      "           2       0.88      0.65      0.75     21574\n",
      "           3       0.43      0.52      0.47      5408\n",
      "           4       0.22      0.58      0.31       686\n",
      "\n",
      "    accuracy                           0.61     31212\n",
      "   macro avg       0.40      0.56      0.43     31212\n",
      "weighted avg       0.72      0.61      0.65     31212\n",
      "\n"
     ]
    }
   ],
   "source": [
    "#printing classification report:\n",
    "print(classification_report(preds_3, y_test))"
   ]
  },
  {
   "cell_type": "code",
   "execution_count": 49,
   "id": "3a3aa18c-4571-410f-bc1f-94c95d729c58",
   "metadata": {},
   "outputs": [
    {
     "data": {
      "text/plain": [
       "<Figure size 576x576 with 0 Axes>"
      ]
     },
     "metadata": {},
     "output_type": "display_data"
    },
    {
     "data": {
      "image/png": "[encoded data removed]",
      "text/plain": [
       "<Figure size 432x288 with 2 Axes>"
      ]
     },
     "metadata": {
      "needs_background": "light"
     },
     "output_type": "display_data"
    }
   ],
   "source": [
    "#plotting confusion matrix:\n",
    "plt.figure(figsize = (8, 8));\n",
    "plot_confusion_matrix(tvec_lr_pipe, \n",
    "                      X_test, y_test, \n",
    "                      cmap = 'viridis', \n",
    "                      values_format = 'd');"
   ]
  },
  {
   "cell_type": "markdown",
   "id": "e64a640f-c5f2-4361-92f5-c166cffaa100",
   "metadata": {},
   "source": [
    "5. TF-IDF with MultinomialNB"
   ]
  },
  {
   "cell_type": "code",
   "execution_count": 50,
   "id": "6b333c74-33bf-46c8-9e5a-7eccb04e3514",
   "metadata": {},
   "outputs": [
    {
     "data": {
      "text/plain": [
       "(0.6705674099705241, 0.609765474817378)"
      ]
     },
     "execution_count": 50,
     "metadata": {},
     "output_type": "execute_result"
    }
   ],
   "source": [
    "#pipeline for tvec with nb:\n",
    "tvec_nb_pipe = Pipeline([('tvec', cvec), \n",
    "                        ('nb', nb)])\n",
    "\n",
    "tvec_nb_pipe.fit(X_train, y_train)\n",
    "tvec_nb_pipe.score(X_train, y_train), tvec_nb_pipe.score(X_test, y_test)"
   ]
  },
  {
   "cell_type": "code",
   "execution_count": 20,
   "id": "675f0d55-8cd0-403f-b284-58589d0a740a",
   "metadata": {},
   "outputs": [],
   "source": [
    "#generating predictions:\n",
    "preds_4 = tvec_nb_pipe.predict(X_test)"
   ]
  },
  {
   "cell_type": "code",
   "execution_count": 52,
   "id": "69fdfe2e-2b6b-4077-a03d-80450e7342e0",
   "metadata": {},
   "outputs": [
    {
     "name": "stdout",
     "output_type": "stream",
     "text": [
      "              precision    recall  f1-score   support\n",
      "\n",
      "           0       0.28      0.43      0.34       899\n",
      "           1       0.41      0.49      0.45      4469\n",
      "           2       0.79      0.69      0.73     18357\n",
      "           3       0.50      0.52      0.51      6350\n",
      "           4       0.30      0.49      0.37      1137\n",
      "\n",
      "    accuracy                           0.61     31212\n",
      "   macro avg       0.45      0.52      0.48     31212\n",
      "weighted avg       0.64      0.61      0.62     31212\n",
      "\n"
     ]
    }
   ],
   "source": [
    "#printing classification report:\n",
    "print(classification_report(preds_4, y_test))"
   ]
  },
  {
   "cell_type": "code",
   "execution_count": 53,
   "id": "53cca394-6f76-4394-b670-3f5c83d3831e",
   "metadata": {},
   "outputs": [
    {
     "data": {
      "text/plain": [
       "<Figure size 576x576 with 0 Axes>"
      ]
     },
     "metadata": {},
     "output_type": "display_data"
    },
    {
     "data": {
      "image/png": "[encoded data removed]",
      "text/plain": [
       "<Figure size 432x288 with 2 Axes>"
      ]
     },
     "metadata": {
      "needs_background": "light"
     },
     "output_type": "display_data"
    }
   ],
   "source": [
    "#plotting confusion matrix:\n",
    "plt.figure(figsize = (8, 8));\n",
    "plot_confusion_matrix(tvec_nb_pipe, \n",
    "                      X_test, y_test, \n",
    "                      cmap = 'viridis', \n",
    "                      values_format = 'd');"
   ]
  },
  {
   "cell_type": "markdown",
   "id": "111e8a81-a343-44fb-ab87-8b4b733ca547",
   "metadata": {},
   "source": [
    "6a. CountVectorizer with Support Vector Machine"
   ]
  },
  {
   "cell_type": "code",
   "execution_count": 54,
   "id": "938103f9-2f99-466a-ad1d-0b5a92627eea",
   "metadata": {},
   "outputs": [],
   "source": [
    "cvec = CountVectorizer(analyzer = 'word',                        \n",
    "                       stop_words = stop_words, \n",
    "                       max_features = 2000)                     \n",
    "svc = SVC(C = 1,\n",
    "         degree = 2, \n",
    "         kernel = 'rbf',\n",
    "         gamma = 'scale')"
   ]
  },
  {
   "cell_type": "code",
   "execution_count": 55,
   "id": "a491e4b9-e89b-4a74-abb5-b1089da8c5d4",
   "metadata": {},
   "outputs": [],
   "source": [
    "#pipe_svc = Pipeline([\n",
    "#    ('cvec', cvec),\n",
    "#    ('svc', svc)])\n",
    "\n",
    "#pipe_svc.fit(X_train, y_train)\n",
    "#pipe_svc.score(X_train, y_train), pipe_svc.score(X_test, y_test)\n",
    "#this was run on Curtis Hill's computer, he got the output for the team. "
   ]
  },
  {
   "cell_type": "code",
   "execution_count": 56,
   "id": "ede335d2-2bb3-4efd-9c5a-b6000838ddcb",
   "metadata": {},
   "outputs": [],
   "source": [
    "#output from above cell:\n",
    "#Train = 0.7176246315519672, Test = 0.6335704216327054"
   ]
  },
  {
   "cell_type": "code",
   "execution_count": null,
   "id": "de37072b-671c-4256-8743-c872c0bfa902",
   "metadata": {},
   "outputs": [],
   "source": [
    "#preds_5a = pipe_svc.predict(X_test)"
   ]
  },
  {
   "cell_type": "code",
   "execution_count": null,
   "id": "4f03e459-f6a7-4556-9733-0f33bbba4e40",
   "metadata": {},
   "outputs": [],
   "source": [
    "#print(classification_report(preds_5a, y_test))"
   ]
  },
  {
   "cell_type": "code",
   "execution_count": null,
   "id": "578788e2-485f-4530-acce-df0c61224ead",
   "metadata": {},
   "outputs": [],
   "source": [
    "#plt.figure(figsize = (8, 8));\n",
    "#plot_confusion_matrix(pipe_svc, \n",
    "#                      X_test, y_test, \n",
    "#                      cmap = 'viridis', \n",
    "#                      values_format = 'd');"
   ]
  },
  {
   "cell_type": "markdown",
   "id": "93b8046f-2857-4f43-911f-c9cc8ef1bfa2",
   "metadata": {},
   "source": [
    "6b. TF-IDF with Support Vector Machine"
   ]
  },
  {
   "cell_type": "code",
   "execution_count": 57,
   "id": "65104335-72a4-4bc7-a195-deb54337c65a",
   "metadata": {},
   "outputs": [],
   "source": [
    "tfidf = TfidfVectorizer(stop_words= stop_words, \n",
    "                             max_features= None,\n",
    "                            ngram_range= (1,1))"
   ]
  },
  {
   "cell_type": "code",
   "execution_count": 58,
   "id": "e406b16e-6b84-490e-802c-98ac6b529ea6",
   "metadata": {},
   "outputs": [],
   "source": [
    "#svc_pipe = Pipeline([\n",
    "#    ('cvec', cvec),\n",
    "#    ('svc', svc)])\n",
    "\n",
    "#svc_pipe.fit(X_train, y_train)\n",
    "#svc_pipe.score(X_train, y_train), svc_pipe.score(X_test, y_test)\n",
    "#this was run on Curtis Hill's computer, he got the output for the team. "
   ]
  },
  {
   "cell_type": "code",
   "execution_count": 59,
   "id": "1578d0fe-a429-4ea0-a39f-830f23cd5f64",
   "metadata": {},
   "outputs": [],
   "source": [
    "#output from above cell:\n",
    "#Train = 0.7743255799051647, Test = 0.6586569268230168"
   ]
  },
  {
   "cell_type": "code",
   "execution_count": null,
   "id": "2884b9ec-b957-46e2-b798-851391d5f3b6",
   "metadata": {},
   "outputs": [],
   "source": [
    "#svm_class_report = classification_report(y_test, svm_predict)\n",
    "#print(svm_class_report)"
   ]
  },
  {
   "cell_type": "code",
   "execution_count": null,
   "id": "6059d484-28fc-4a49-836d-2e6faaa5df6f",
   "metadata": {},
   "outputs": [],
   "source": [
    "#plt.figure(figsize = (8, 8));\n",
    "#plot_confusion_matrix(svc_pipe, \n",
    "#                      X_test, y_test, \n",
    "#                      cmap = 'viridis', \n",
    "#                      values_format = 'd');"
   ]
  },
  {
   "cell_type": "code",
   "execution_count": 84,
   "id": "21a6b1c1-a87a-454a-8f2e-20d096e71180",
   "metadata": {},
   "outputs": [],
   "source": [
    "#Again, the SVM was run on Curtis Hill's computer, he got the output for the team. "
   ]
  },
  {
   "cell_type": "markdown",
   "id": "a647c8e1-ab5e-4a78-aaba-b45c32a74275",
   "metadata": {},
   "source": [
    "- TF-IDF has performed the best on our testing data so far. "
   ]
  },
  {
   "cell_type": "markdown",
   "id": "862022e7-e97c-4872-b146-03cd3f310889",
   "metadata": {},
   "source": [
    "**GridSearching**"
   ]
  },
  {
   "cell_type": "code",
   "execution_count": 60,
   "id": "f1195189-be08-49cc-9f6c-332aece3a3e6",
   "metadata": {},
   "outputs": [],
   "source": [
    "pipe_params = {\n",
    "    'cvec__max_features': [None, 500, 1_000, 1_500, 2_000, 2_500, 3_000], \n",
    "    'cvec__min_df': [1, 2, 3], \n",
    "    'cvec__max_df': [1.0, .75, .85, .95],\n",
    "    'cvec__ngram_range': [(1, 1), (1, 2), (1,3), (2,3)]\n",
    "}"
   ]
  },
  {
   "cell_type": "code",
   "execution_count": 61,
   "id": "01c61f6d-410f-4fb0-8b17-677ee2991540",
   "metadata": {},
   "outputs": [],
   "source": [
    "#instantiating GridSearchCV.\n",
    "gs_cvec = GridSearchCV(cvec_nb_pipe, \n",
    "                  param_grid = pipe_params, \n",
    "                  cv = 5, \n",
    "                  verbose = 1)"
   ]
  },
  {
   "cell_type": "code",
   "execution_count": 62,
   "id": "d4c51387-d116-47f4-a7cf-1aeb591bad86",
   "metadata": {},
   "outputs": [],
   "source": [
    "#Fiting GridSearch to training data:\n",
    "#gs_cvec.fit(X_train, y_train)\n",
    "#gs_cvec.best_params_\n",
    "\n",
    "#Did not have time to run GridSearch"
   ]
  },
  {
   "cell_type": "markdown",
   "id": "0519b492-579b-449f-bf84-70291b36f71c",
   "metadata": {},
   "source": [
    "**Model Evalution**"
   ]
  },
  {
   "cell_type": "code",
   "execution_count": 63,
   "id": "1b8c7969-5c18-49ff-96aa-77e68a4b159b",
   "metadata": {},
   "outputs": [],
   "source": [
    "#re-initializing:\n",
    "cvec = CountVectorizer(analyzer = 'word',                        \n",
    "                       stop_words = stop_words, \n",
    "                       max_features = 2000)\n",
    "lr = LogisticRegression(max_iter = 10_000)"
   ]
  },
  {
   "cell_type": "code",
   "execution_count": 64,
   "id": "08f0e649-46e7-4e86-a9e2-9d83c388a0d1",
   "metadata": {},
   "outputs": [
    {
     "data": {
      "text/plain": [
       "Pipeline(steps=[('cvec',\n",
       "                 CountVectorizer(max_features=2000,\n",
       "                                 stop_words=frozenset({'a', 'about', 'above',\n",
       "                                                       'across', 'after',\n",
       "                                                       'afterwards', 'again',\n",
       "                                                       'against', 'all',\n",
       "                                                       'almost', 'alone',\n",
       "                                                       'along', 'already',\n",
       "                                                       'also', 'although',\n",
       "                                                       'always', 'am', 'among',\n",
       "                                                       'amongst', 'amoungst',\n",
       "                                                       'amount', 'an', 'and',\n",
       "                                                       'another', 'any',\n",
       "                                                       'anyhow', 'anyone',\n",
       "                                                       'anything', 'anyway',\n",
       "                                                       'anywhere', ...}))),\n",
       "                ('logreg', LogisticRegression(max_iter=10000))])"
      ]
     },
     "execution_count": 64,
     "metadata": {},
     "output_type": "execute_result"
    }
   ],
   "source": [
    "#re-initializing:\n",
    "cvec_logreg_pipe = Pipeline([('cvec', cvec),\n",
    "               ('logreg', lr),\n",
    "              ])\n",
    "cvec_logreg_pipe.fit(X_train, y_train)"
   ]
  },
  {
   "cell_type": "code",
   "execution_count": 65,
   "id": "d7c0d3bb-83fd-490e-aeb6-547b3b64b628",
   "metadata": {},
   "outputs": [],
   "source": [
    "#generating predictions for testing data from cvec, lr pipeline:\n",
    "df_test['preds'] = cvec_logreg_pipe.predict(df_test['Phrase'])"
   ]
  },
  {
   "cell_type": "code",
   "execution_count": 74,
   "id": "f7ac0f3b-e54c-441c-baae-6c332cb87865",
   "metadata": {},
   "outputs": [
    {
     "data": {
      "text/plain": [
       "2    48575\n",
       "3     9857\n",
       "1     5188\n",
       "4     1646\n",
       "0     1026\n",
       "Name: preds, dtype: int64"
      ]
     },
     "execution_count": 74,
     "metadata": {},
     "output_type": "execute_result"
    }
   ],
   "source": [
    "#looking at value_counts for testing predictions:\n",
    "df_test['preds'].value_counts()"
   ]
  },
  {
   "cell_type": "code",
   "execution_count": 67,
   "id": "8680b512-2a9a-49db-afb6-c339cb31006e",
   "metadata": {},
   "outputs": [],
   "source": [
    "#Predictions for test data set using the pipeline with Support Vector Machines and Tfidf Vectorizer\n",
    "#test['predictions'] = pipe_svc_2.predict(test['Phrase'])\n",
    "\n",
    "#test['predictions'].value_counts()\n",
    "#From Curtis Hill"
   ]
  }
 ],
 "metadata": {
  "kernelspec": {
   "display_name": "Python 3",
   "language": "python",
   "name": "python3"
  },
  "language_info": {
   "codemirror_mode": {
    "name": "ipython",
    "version": 3
   },
   "file_extension": ".py",
   "mimetype": "text/x-python",
   "name": "python",
   "nbconvert_exporter": "python",
   "pygments_lexer": "ipython3",
   "version": "3.8.8"
  }
 },
 "nbformat": 4,
 "nbformat_minor": 5
}
