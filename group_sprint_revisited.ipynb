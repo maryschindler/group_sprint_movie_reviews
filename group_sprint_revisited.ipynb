{
 "cells": [
  {
   "cell_type": "markdown",
   "id": "ccc3d75c-27db-466f-a9ee-362e74cba554",
   "metadata": {},
   "source": [
    "### Project 4 - Hackathon! ####\n",
    "All of the code in this notebook should be considered as joint work that came from the collaboration of the members: Curtis Hope Hill, Mary McAteer, and Kathy Simon."
   ]
  },
  {
   "cell_type": "markdown",
   "id": "2d88f178-c3f8-45f3-a59d-04f37c8aa284",
   "metadata": {},
   "source": [
    "**Description**"
   ]
  },
  {
   "cell_type": "markdown",
   "id": "9193c5d7-9694-42c5-ba50-7ac87fdfd77b",
   "metadata": {},
   "source": [
    "In this project, our group will have four (4) hours to examine and prepare a dataset of movie reviews and build a classification model based on Sentiment Analysis. "
   ]
  },
  {
   "cell_type": "markdown",
   "id": "ead7199f-9ea7-4023-9c97-4f96cfd3821f",
   "metadata": {},
   "source": [
    "**The sentiment labels are:**\n",
    "- 0 - negative\n",
    "- 1 - somewhat negative\n",
    "- 2 - neutral\n",
    "- 3 - somewhat positive\n",
    "- 4 - positive"
   ]
  },
  {
   "cell_type": "code",
   "execution_count": 1,
   "id": "b6d9ad6a-889c-4709-83bc-06078d58b15d",
   "metadata": {},
   "outputs": [],
   "source": [
    "#imports\n",
    "import pandas as pd\n",
    "pd.set_option('display.max_colwidth', 999)\n",
    "import numpy as np\n",
    "import matplotlib.pyplot as plt\n",
    "import seaborn as sns\n",
    "\n",
    "import nltk\n",
    "from nltk.corpus import stopwords\n",
    "from nltk.tokenize import word_tokenize\n",
    "from nltk.stem import PorterStemmer\n",
    "from nltk.stem import WordNetLemmatizer\n",
    "from nltk.corpus import wordnet\n",
    "from nltk.sentiment.vader import SentimentIntensityAnalyzer\n",
    "\n",
    "from sklearn.model_selection import train_test_split, cross_val_score, GridSearchCV\n",
    "from sklearn.pipeline import Pipeline\n",
    "from sklearn.naive_bayes import MultinomialNB\n",
    "from sklearn.linear_model import LogisticRegression\n",
    "from sklearn.metrics import confusion_matrix, classification_report, ConfusionMatrixDisplay\n",
    "from sklearn.neighbors import KNeighborsClassifier\n",
    "from sklearn.feature_extraction.text import CountVectorizer, TfidfVectorizer, TfidfTransformer\n",
    "from sklearn.svm import SVC\n",
    "\n",
    "np.random.seed(42)"
   ]
  },
  {
   "cell_type": "markdown",
   "id": "f2b468c8-91b2-43d9-a77b-bd2de297e180",
   "metadata": {},
   "source": [
    "**Importing Data**"
   ]
  },
  {
   "cell_type": "code",
   "execution_count": 2,
   "id": "f7da7bdd-4462-43a9-ba15-e48e63749db6",
   "metadata": {},
   "outputs": [
    {
     "data": {
      "text/html": [
       "<div>\n",
       "<style scoped>\n",
       "    .dataframe tbody tr th:only-of-type {\n",
       "        vertical-align: middle;\n",
       "    }\n",
       "\n",
       "    .dataframe tbody tr th {\n",
       "        vertical-align: top;\n",
       "    }\n",
       "\n",
       "    .dataframe thead th {\n",
       "        text-align: right;\n",
       "    }\n",
       "</style>\n",
       "<table border=\"1\" class=\"dataframe\">\n",
       "  <thead>\n",
       "    <tr style=\"text-align: right;\">\n",
       "      <th></th>\n",
       "      <th>SentenceId</th>\n",
       "      <th>Phrase</th>\n",
       "      <th>Sentiment</th>\n",
       "    </tr>\n",
       "  </thead>\n",
       "  <tbody>\n",
       "    <tr>\n",
       "      <th>0</th>\n",
       "      <td>1</td>\n",
       "      <td>A series of escapades demonstrating the adage that what is good for the goose is also good for the gander , some of which occasionally amuses but none of which amounts to much of a story .</td>\n",
       "      <td>1</td>\n",
       "    </tr>\n",
       "    <tr>\n",
       "      <th>1</th>\n",
       "      <td>1</td>\n",
       "      <td>A series of escapades demonstrating the adage that what is good for the goose</td>\n",
       "      <td>2</td>\n",
       "    </tr>\n",
       "    <tr>\n",
       "      <th>2</th>\n",
       "      <td>1</td>\n",
       "      <td>A series</td>\n",
       "      <td>2</td>\n",
       "    </tr>\n",
       "    <tr>\n",
       "      <th>3</th>\n",
       "      <td>1</td>\n",
       "      <td>A</td>\n",
       "      <td>2</td>\n",
       "    </tr>\n",
       "    <tr>\n",
       "      <th>4</th>\n",
       "      <td>1</td>\n",
       "      <td>series</td>\n",
       "      <td>2</td>\n",
       "    </tr>\n",
       "  </tbody>\n",
       "</table>\n",
       "</div>"
      ],
      "text/plain": [
       "   SentenceId  \\\n",
       "0           1   \n",
       "1           1   \n",
       "2           1   \n",
       "3           1   \n",
       "4           1   \n",
       "\n",
       "                                                                                                                                                                                         Phrase  \\\n",
       "0  A series of escapades demonstrating the adage that what is good for the goose is also good for the gander , some of which occasionally amuses but none of which amounts to much of a story .   \n",
       "1                                                                                                                 A series of escapades demonstrating the adage that what is good for the goose   \n",
       "2                                                                                                                                                                                      A series   \n",
       "3                                                                                                                                                                                             A   \n",
       "4                                                                                                                                                                                        series   \n",
       "\n",
       "   Sentiment  \n",
       "0          1  \n",
       "1          2  \n",
       "2          2  \n",
       "3          2  \n",
       "4          2  "
      ]
     },
     "execution_count": 2,
     "metadata": {},
     "output_type": "execute_result"
    }
   ],
   "source": [
    "#https://stackoverflow.com/questions/9652832/how-to-load-a-tsv-file-into-a-pandas-dataframe\n",
    "#building training dataframe from .tsv file\n",
    "df_train = pd.read_csv('./train.tsv', sep='\\t')[['SentenceId', 'Phrase', 'Sentiment']]\n",
    "df_train.head()"
   ]
  },
  {
   "cell_type": "code",
   "execution_count": 3,
   "id": "876ee458-68ef-45b3-9737-24f0aac98b13",
   "metadata": {},
   "outputs": [
    {
     "data": {
      "text/plain": [
       "(156060, 3)"
      ]
     },
     "execution_count": 3,
     "metadata": {},
     "output_type": "execute_result"
    }
   ],
   "source": [
    "#checking out the number of rows:\n",
    "df_train.shape"
   ]
  },
  {
   "cell_type": "code",
   "execution_count": 4,
   "id": "2d797e55-3f21-49d1-af63-2e94937d92e2",
   "metadata": {},
   "outputs": [
    {
     "name": "stdout",
     "output_type": "stream",
     "text": [
      "<class 'pandas.core.frame.DataFrame'>\n",
      "RangeIndex: 156060 entries, 0 to 156059\n",
      "Data columns (total 3 columns):\n",
      " #   Column      Non-Null Count   Dtype \n",
      "---  ------      --------------   ----- \n",
      " 0   SentenceId  156060 non-null  int64 \n",
      " 1   Phrase      156060 non-null  object\n",
      " 2   Sentiment   156060 non-null  int64 \n",
      "dtypes: int64(2), object(1)\n",
      "memory usage: 3.6+ MB\n"
     ]
    }
   ],
   "source": [
    "#checking out nulls and dtypes:\n",
    "df_train.info()"
   ]
  },
  {
   "cell_type": "code",
   "execution_count": 5,
   "id": "49cd4b56-b8f7-453a-91c1-7f3a64e4540e",
   "metadata": {},
   "outputs": [
    {
     "data": {
      "text/html": [
       "<div>\n",
       "<style scoped>\n",
       "    .dataframe tbody tr th:only-of-type {\n",
       "        vertical-align: middle;\n",
       "    }\n",
       "\n",
       "    .dataframe tbody tr th {\n",
       "        vertical-align: top;\n",
       "    }\n",
       "\n",
       "    .dataframe thead th {\n",
       "        text-align: right;\n",
       "    }\n",
       "</style>\n",
       "<table border=\"1\" class=\"dataframe\">\n",
       "  <thead>\n",
       "    <tr style=\"text-align: right;\">\n",
       "      <th></th>\n",
       "      <th>SentenceId</th>\n",
       "      <th>Phrase</th>\n",
       "      <th>Sentiment</th>\n",
       "    </tr>\n",
       "  </thead>\n",
       "  <tbody>\n",
       "    <tr>\n",
       "      <th>0</th>\n",
       "      <td>1</td>\n",
       "      <td>A series of escapades demonstrating the adage that what is good for the goose is also good for the gander , some of which occasionally amuses but none of which amounts to much of a story .</td>\n",
       "      <td>1</td>\n",
       "    </tr>\n",
       "    <tr>\n",
       "      <th>1</th>\n",
       "      <td>1</td>\n",
       "      <td>A series of escapades demonstrating the adage that what is good for the goose</td>\n",
       "      <td>2</td>\n",
       "    </tr>\n",
       "    <tr>\n",
       "      <th>2</th>\n",
       "      <td>1</td>\n",
       "      <td>A series</td>\n",
       "      <td>2</td>\n",
       "    </tr>\n",
       "    <tr>\n",
       "      <th>3</th>\n",
       "      <td>1</td>\n",
       "      <td>A</td>\n",
       "      <td>2</td>\n",
       "    </tr>\n",
       "    <tr>\n",
       "      <th>4</th>\n",
       "      <td>1</td>\n",
       "      <td>series</td>\n",
       "      <td>2</td>\n",
       "    </tr>\n",
       "    <tr>\n",
       "      <th>...</th>\n",
       "      <td>...</td>\n",
       "      <td>...</td>\n",
       "      <td>...</td>\n",
       "    </tr>\n",
       "    <tr>\n",
       "      <th>58</th>\n",
       "      <td>1</td>\n",
       "      <td>much</td>\n",
       "      <td>2</td>\n",
       "    </tr>\n",
       "    <tr>\n",
       "      <th>59</th>\n",
       "      <td>1</td>\n",
       "      <td>of a story</td>\n",
       "      <td>2</td>\n",
       "    </tr>\n",
       "    <tr>\n",
       "      <th>60</th>\n",
       "      <td>1</td>\n",
       "      <td>a story</td>\n",
       "      <td>2</td>\n",
       "    </tr>\n",
       "    <tr>\n",
       "      <th>61</th>\n",
       "      <td>1</td>\n",
       "      <td>story</td>\n",
       "      <td>2</td>\n",
       "    </tr>\n",
       "    <tr>\n",
       "      <th>62</th>\n",
       "      <td>1</td>\n",
       "      <td>.</td>\n",
       "      <td>2</td>\n",
       "    </tr>\n",
       "  </tbody>\n",
       "</table>\n",
       "<p>63 rows × 3 columns</p>\n",
       "</div>"
      ],
      "text/plain": [
       "    SentenceId  \\\n",
       "0            1   \n",
       "1            1   \n",
       "2            1   \n",
       "3            1   \n",
       "4            1   \n",
       "..         ...   \n",
       "58           1   \n",
       "59           1   \n",
       "60           1   \n",
       "61           1   \n",
       "62           1   \n",
       "\n",
       "                                                                                                                                                                                          Phrase  \\\n",
       "0   A series of escapades demonstrating the adage that what is good for the goose is also good for the gander , some of which occasionally amuses but none of which amounts to much of a story .   \n",
       "1                                                                                                                  A series of escapades demonstrating the adage that what is good for the goose   \n",
       "2                                                                                                                                                                                       A series   \n",
       "3                                                                                                                                                                                              A   \n",
       "4                                                                                                                                                                                         series   \n",
       "..                                                                                                                                                                                           ...   \n",
       "58                                                                                                                                                                                          much   \n",
       "59                                                                                                                                                                                    of a story   \n",
       "60                                                                                                                                                                                       a story   \n",
       "61                                                                                                                                                                                         story   \n",
       "62                                                                                                                                                                                             .   \n",
       "\n",
       "    Sentiment  \n",
       "0           1  \n",
       "1           2  \n",
       "2           2  \n",
       "3           2  \n",
       "4           2  \n",
       "..        ...  \n",
       "58          2  \n",
       "59          2  \n",
       "60          2  \n",
       "61          2  \n",
       "62          2  \n",
       "\n",
       "[63 rows x 3 columns]"
      ]
     },
     "execution_count": 5,
     "metadata": {},
     "output_type": "execute_result"
    }
   ],
   "source": [
    "#looking at all instances where 'SentenceId' = 1\n",
    "df_train[df_train['SentenceId'] == 1]"
   ]
  },
  {
   "cell_type": "code",
   "execution_count": 6,
   "id": "62e49bd9-bb42-4728-a747-aabbc6560708",
   "metadata": {},
   "outputs": [
    {
     "data": {
      "text/html": [
       "<div>\n",
       "<style scoped>\n",
       "    .dataframe tbody tr th:only-of-type {\n",
       "        vertical-align: middle;\n",
       "    }\n",
       "\n",
       "    .dataframe tbody tr th {\n",
       "        vertical-align: top;\n",
       "    }\n",
       "\n",
       "    .dataframe thead th {\n",
       "        text-align: right;\n",
       "    }\n",
       "</style>\n",
       "<table border=\"1\" class=\"dataframe\">\n",
       "  <thead>\n",
       "    <tr style=\"text-align: right;\">\n",
       "      <th></th>\n",
       "      <th>SentenceId</th>\n",
       "      <th>Phrase</th>\n",
       "    </tr>\n",
       "  </thead>\n",
       "  <tbody>\n",
       "    <tr>\n",
       "      <th>0</th>\n",
       "      <td>8545</td>\n",
       "      <td>An intermittently pleasing but mostly routine effort .</td>\n",
       "    </tr>\n",
       "    <tr>\n",
       "      <th>1</th>\n",
       "      <td>8545</td>\n",
       "      <td>An intermittently pleasing but mostly routine effort</td>\n",
       "    </tr>\n",
       "    <tr>\n",
       "      <th>2</th>\n",
       "      <td>8545</td>\n",
       "      <td>An</td>\n",
       "    </tr>\n",
       "    <tr>\n",
       "      <th>3</th>\n",
       "      <td>8545</td>\n",
       "      <td>intermittently pleasing but mostly routine effort</td>\n",
       "    </tr>\n",
       "    <tr>\n",
       "      <th>4</th>\n",
       "      <td>8545</td>\n",
       "      <td>intermittently pleasing but mostly routine</td>\n",
       "    </tr>\n",
       "  </tbody>\n",
       "</table>\n",
       "</div>"
      ],
      "text/plain": [
       "   SentenceId                                                  Phrase\n",
       "0        8545  An intermittently pleasing but mostly routine effort .\n",
       "1        8545    An intermittently pleasing but mostly routine effort\n",
       "2        8545                                                      An\n",
       "3        8545       intermittently pleasing but mostly routine effort\n",
       "4        8545              intermittently pleasing but mostly routine"
      ]
     },
     "execution_count": 6,
     "metadata": {},
     "output_type": "execute_result"
    }
   ],
   "source": [
    "#building testing dataframe from .tsv file\n",
    "df_test = pd.read_csv('./test.tsv', sep = '\\t')[['SentenceId', 'Phrase']]\n",
    "df_test.head()"
   ]
  },
  {
   "cell_type": "code",
   "execution_count": 7,
   "id": "4483f9b0-86d2-43ce-b3da-cddbaa8e6ebe",
   "metadata": {},
   "outputs": [
    {
     "data": {
      "text/plain": [
       "(66292, 2)"
      ]
     },
     "execution_count": 7,
     "metadata": {},
     "output_type": "execute_result"
    }
   ],
   "source": [
    "#checking out the number of rows:\n",
    "df_test.shape"
   ]
  },
  {
   "cell_type": "code",
   "execution_count": 8,
   "id": "be75b17c-f16d-493c-93bc-104c1eec7dfb",
   "metadata": {},
   "outputs": [
    {
     "name": "stdout",
     "output_type": "stream",
     "text": [
      "<class 'pandas.core.frame.DataFrame'>\n",
      "RangeIndex: 66292 entries, 0 to 66291\n",
      "Data columns (total 2 columns):\n",
      " #   Column      Non-Null Count  Dtype \n",
      "---  ------      --------------  ----- \n",
      " 0   SentenceId  66292 non-null  int64 \n",
      " 1   Phrase      66292 non-null  object\n",
      "dtypes: int64(1), object(1)\n",
      "memory usage: 1.0+ MB\n"
     ]
    }
   ],
   "source": [
    "#checking out nulls and dtypes:\n",
    "df_test.info()"
   ]
  },
  {
   "cell_type": "code",
   "execution_count": 9,
   "id": "88f2e89f-d17b-4b12-ab10-24d0725f4943",
   "metadata": {},
   "outputs": [
    {
     "name": "stdout",
     "output_type": "stream",
     "text": [
      "<class 'pandas.core.frame.DataFrame'>\n",
      "RangeIndex: 66292 entries, 0 to 66291\n",
      "Data columns (total 2 columns):\n",
      " #   Column      Non-Null Count  Dtype \n",
      "---  ------      --------------  ----- \n",
      " 0   SentenceId  66292 non-null  int64 \n",
      " 1   Phrase      66292 non-null  object\n",
      "dtypes: int64(1), object(1)\n",
      "memory usage: 1.0+ MB\n"
     ]
    }
   ],
   "source": [
    "df_test.info()"
   ]
  },
  {
   "cell_type": "code",
   "execution_count": 10,
   "id": "71d29ea5-bf33-46a4-88f2-a35657981f8c",
   "metadata": {},
   "outputs": [
    {
     "data": {
      "text/html": [
       "<div>\n",
       "<style scoped>\n",
       "    .dataframe tbody tr th:only-of-type {\n",
       "        vertical-align: middle;\n",
       "    }\n",
       "\n",
       "    .dataframe tbody tr th {\n",
       "        vertical-align: top;\n",
       "    }\n",
       "\n",
       "    .dataframe thead th {\n",
       "        text-align: right;\n",
       "    }\n",
       "</style>\n",
       "<table border=\"1\" class=\"dataframe\">\n",
       "  <thead>\n",
       "    <tr style=\"text-align: right;\">\n",
       "      <th></th>\n",
       "      <th>SentenceId</th>\n",
       "      <th>Phrase</th>\n",
       "    </tr>\n",
       "  </thead>\n",
       "  <tbody>\n",
       "    <tr>\n",
       "      <th>15</th>\n",
       "      <td>8546</td>\n",
       "      <td>Kidman is really the only thing that 's worth watching in Birthday Girl , a film by the stage-trained Jez Butterworth -LRB- Mojo -RRB- that serves as yet another example of the sad decline of British comedies in the post-Full Monty world .</td>\n",
       "    </tr>\n",
       "    <tr>\n",
       "      <th>16</th>\n",
       "      <td>8546</td>\n",
       "      <td>Kidman</td>\n",
       "    </tr>\n",
       "    <tr>\n",
       "      <th>17</th>\n",
       "      <td>8546</td>\n",
       "      <td>is really the only thing that 's worth watching in Birthday Girl , a film by the stage-trained Jez Butterworth -LRB- Mojo -RRB- that serves as yet another example of the sad decline of British comedies in the post-Full Monty world .</td>\n",
       "    </tr>\n",
       "    <tr>\n",
       "      <th>18</th>\n",
       "      <td>8546</td>\n",
       "      <td>is really the only thing that 's worth watching in Birthday Girl , a film by the stage-trained Jez Butterworth -LRB- Mojo -RRB- that serves as yet another example of the sad decline of British comedies in the post-Full Monty world</td>\n",
       "    </tr>\n",
       "    <tr>\n",
       "      <th>19</th>\n",
       "      <td>8546</td>\n",
       "      <td>is really</td>\n",
       "    </tr>\n",
       "    <tr>\n",
       "      <th>...</th>\n",
       "      <td>...</td>\n",
       "      <td>...</td>\n",
       "    </tr>\n",
       "    <tr>\n",
       "      <th>88</th>\n",
       "      <td>8546</td>\n",
       "      <td>post-Full Monty world</td>\n",
       "    </tr>\n",
       "    <tr>\n",
       "      <th>89</th>\n",
       "      <td>8546</td>\n",
       "      <td>post-Full</td>\n",
       "    </tr>\n",
       "    <tr>\n",
       "      <th>90</th>\n",
       "      <td>8546</td>\n",
       "      <td>Monty world</td>\n",
       "    </tr>\n",
       "    <tr>\n",
       "      <th>91</th>\n",
       "      <td>8546</td>\n",
       "      <td>Monty</td>\n",
       "    </tr>\n",
       "    <tr>\n",
       "      <th>92</th>\n",
       "      <td>8546</td>\n",
       "      <td>world</td>\n",
       "    </tr>\n",
       "  </tbody>\n",
       "</table>\n",
       "<p>78 rows × 2 columns</p>\n",
       "</div>"
      ],
      "text/plain": [
       "    SentenceId  \\\n",
       "15        8546   \n",
       "16        8546   \n",
       "17        8546   \n",
       "18        8546   \n",
       "19        8546   \n",
       "..         ...   \n",
       "88        8546   \n",
       "89        8546   \n",
       "90        8546   \n",
       "91        8546   \n",
       "92        8546   \n",
       "\n",
       "                                                                                                                                                                                                                                             Phrase  \n",
       "15  Kidman is really the only thing that 's worth watching in Birthday Girl , a film by the stage-trained Jez Butterworth -LRB- Mojo -RRB- that serves as yet another example of the sad decline of British comedies in the post-Full Monty world .  \n",
       "16                                                                                                                                                                                                                                           Kidman  \n",
       "17         is really the only thing that 's worth watching in Birthday Girl , a film by the stage-trained Jez Butterworth -LRB- Mojo -RRB- that serves as yet another example of the sad decline of British comedies in the post-Full Monty world .  \n",
       "18           is really the only thing that 's worth watching in Birthday Girl , a film by the stage-trained Jez Butterworth -LRB- Mojo -RRB- that serves as yet another example of the sad decline of British comedies in the post-Full Monty world  \n",
       "19                                                                                                                                                                                                                                        is really  \n",
       "..                                                                                                                                                                                                                                              ...  \n",
       "88                                                                                                                                                                                                                            post-Full Monty world  \n",
       "89                                                                                                                                                                                                                                        post-Full  \n",
       "90                                                                                                                                                                                                                                      Monty world  \n",
       "91                                                                                                                                                                                                                                            Monty  \n",
       "92                                                                                                                                                                                                                                            world  \n",
       "\n",
       "[78 rows x 2 columns]"
      ]
     },
     "execution_count": 10,
     "metadata": {},
     "output_type": "execute_result"
    }
   ],
   "source": [
    "#looking at all instances where 'SentenceId' = 8546\n",
    "df_test[df_test['SentenceId'] == 8546]"
   ]
  },
  {
   "cell_type": "markdown",
   "id": "2d04a290-e59d-4414-9076-c88311f5286b",
   "metadata": {},
   "source": [
    "**Cleaning and EDA**"
   ]
  },
  {
   "cell_type": "code",
   "execution_count": 11,
   "id": "7c952243-d34e-46b5-8fc2-71dc1a090ac9",
   "metadata": {},
   "outputs": [
    {
     "data": {
      "text/html": [
       "<div>\n",
       "<style scoped>\n",
       "    .dataframe tbody tr th:only-of-type {\n",
       "        vertical-align: middle;\n",
       "    }\n",
       "\n",
       "    .dataframe tbody tr th {\n",
       "        vertical-align: top;\n",
       "    }\n",
       "\n",
       "    .dataframe thead th {\n",
       "        text-align: right;\n",
       "    }\n",
       "</style>\n",
       "<table border=\"1\" class=\"dataframe\">\n",
       "  <thead>\n",
       "    <tr style=\"text-align: right;\">\n",
       "      <th></th>\n",
       "      <th>SentenceId</th>\n",
       "      <th>Phrase</th>\n",
       "      <th>Sentiment</th>\n",
       "    </tr>\n",
       "  </thead>\n",
       "  <tbody>\n",
       "    <tr>\n",
       "      <th>0</th>\n",
       "      <td>1</td>\n",
       "      <td>A series of escapades demonstrating the adage that what is good for the goose is also good for the gander , some of which occasionally amuses but none of which amounts to much of a story .</td>\n",
       "      <td>1</td>\n",
       "    </tr>\n",
       "    <tr>\n",
       "      <th>63</th>\n",
       "      <td>2</td>\n",
       "      <td>This quiet , introspective and entertaining independent is worth seeking .</td>\n",
       "      <td>4</td>\n",
       "    </tr>\n",
       "    <tr>\n",
       "      <th>81</th>\n",
       "      <td>3</td>\n",
       "      <td>Even fans of Ismail Merchant 's work , I suspect , would have a hard time sitting through this one .</td>\n",
       "      <td>1</td>\n",
       "    </tr>\n",
       "    <tr>\n",
       "      <th>116</th>\n",
       "      <td>4</td>\n",
       "      <td>A positively thrilling combination of ethnography and all the intrigue , betrayal , deceit and murder of a Shakespearean tragedy or a juicy soap opera .</td>\n",
       "      <td>3</td>\n",
       "    </tr>\n",
       "    <tr>\n",
       "      <th>156</th>\n",
       "      <td>5</td>\n",
       "      <td>Aggressive self-glorification and a manipulative whitewash .</td>\n",
       "      <td>1</td>\n",
       "    </tr>\n",
       "  </tbody>\n",
       "</table>\n",
       "</div>"
      ],
      "text/plain": [
       "     SentenceId  \\\n",
       "0             1   \n",
       "63            2   \n",
       "81            3   \n",
       "116           4   \n",
       "156           5   \n",
       "\n",
       "                                                                                                                                                                                           Phrase  \\\n",
       "0    A series of escapades demonstrating the adage that what is good for the goose is also good for the gander , some of which occasionally amuses but none of which amounts to much of a story .   \n",
       "63                                                                                                                     This quiet , introspective and entertaining independent is worth seeking .   \n",
       "81                                                                                           Even fans of Ismail Merchant 's work , I suspect , would have a hard time sitting through this one .   \n",
       "116                                      A positively thrilling combination of ethnography and all the intrigue , betrayal , deceit and murder of a Shakespearean tragedy or a juicy soap opera .   \n",
       "156                                                                                                                                  Aggressive self-glorification and a manipulative whitewash .   \n",
       "\n",
       "     Sentiment  \n",
       "0            1  \n",
       "63           4  \n",
       "81           1  \n",
       "116          3  \n",
       "156          1  "
      ]
     },
     "execution_count": 11,
     "metadata": {},
     "output_type": "execute_result"
    }
   ],
   "source": [
    "#dropping the duplicates from the column 'SentenceId'\n",
    "df_train = df_train.drop_duplicates(subset = 'SentenceId')\n",
    "df_train.head()"
   ]
  },
  {
   "cell_type": "code",
   "execution_count": 12,
   "id": "91b33b8b-828d-4100-9b02-d0081190de4d",
   "metadata": {},
   "outputs": [
    {
     "data": {
      "text/html": [
       "<div>\n",
       "<style scoped>\n",
       "    .dataframe tbody tr th:only-of-type {\n",
       "        vertical-align: middle;\n",
       "    }\n",
       "\n",
       "    .dataframe tbody tr th {\n",
       "        vertical-align: top;\n",
       "    }\n",
       "\n",
       "    .dataframe thead th {\n",
       "        text-align: right;\n",
       "    }\n",
       "</style>\n",
       "<table border=\"1\" class=\"dataframe\">\n",
       "  <thead>\n",
       "    <tr style=\"text-align: right;\">\n",
       "      <th></th>\n",
       "      <th>SentenceId</th>\n",
       "      <th>Phrase</th>\n",
       "    </tr>\n",
       "  </thead>\n",
       "  <tbody>\n",
       "    <tr>\n",
       "      <th>0</th>\n",
       "      <td>8545</td>\n",
       "      <td>An intermittently pleasing but mostly routine effort .</td>\n",
       "    </tr>\n",
       "    <tr>\n",
       "      <th>15</th>\n",
       "      <td>8546</td>\n",
       "      <td>Kidman is really the only thing that 's worth watching in Birthday Girl , a film by the stage-trained Jez Butterworth -LRB- Mojo -RRB- that serves as yet another example of the sad decline of British comedies in the post-Full Monty world .</td>\n",
       "    </tr>\n",
       "    <tr>\n",
       "      <th>93</th>\n",
       "      <td>8547</td>\n",
       "      <td>Once you get into its rhythm ... the movie becomes a heady experience .</td>\n",
       "    </tr>\n",
       "    <tr>\n",
       "      <th>117</th>\n",
       "      <td>8548</td>\n",
       "      <td>I kept wishing I was watching a documentary about the wartime Navajos and what they accomplished instead of all this specious Hollywood hoo-ha .</td>\n",
       "    </tr>\n",
       "    <tr>\n",
       "      <th>158</th>\n",
       "      <td>8549</td>\n",
       "      <td>Kinnear does n't aim for our sympathy , but rather delivers a performance of striking skill and depth .</td>\n",
       "    </tr>\n",
       "  </tbody>\n",
       "</table>\n",
       "</div>"
      ],
      "text/plain": [
       "     SentenceId  \\\n",
       "0          8545   \n",
       "15         8546   \n",
       "93         8547   \n",
       "117        8548   \n",
       "158        8549   \n",
       "\n",
       "                                                                                                                                                                                                                                              Phrase  \n",
       "0                                                                                                                                                                                             An intermittently pleasing but mostly routine effort .  \n",
       "15   Kidman is really the only thing that 's worth watching in Birthday Girl , a film by the stage-trained Jez Butterworth -LRB- Mojo -RRB- that serves as yet another example of the sad decline of British comedies in the post-Full Monty world .  \n",
       "93                                                                                                                                                                           Once you get into its rhythm ... the movie becomes a heady experience .  \n",
       "117                                                                                                 I kept wishing I was watching a documentary about the wartime Navajos and what they accomplished instead of all this specious Hollywood hoo-ha .  \n",
       "158                                                                                                                                          Kinnear does n't aim for our sympathy , but rather delivers a performance of striking skill and depth .  "
      ]
     },
     "execution_count": 12,
     "metadata": {},
     "output_type": "execute_result"
    }
   ],
   "source": [
    "#repeating the above for the testing data\n",
    "df_test = df_test.drop_duplicates(subset = 'SentenceId')\n",
    "df_test.head()"
   ]
  },
  {
   "cell_type": "code",
   "execution_count": 13,
   "id": "6a4a39f6-8008-4707-84e3-c4832d24a707",
   "metadata": {},
   "outputs": [
    {
     "data": {
      "text/plain": [
       "0    0.125689\n",
       "1    0.257943\n",
       "2    0.194044\n",
       "3    0.272130\n",
       "4    0.150193\n",
       "Name: Sentiment, dtype: float64"
      ]
     },
     "execution_count": 13,
     "metadata": {},
     "output_type": "execute_result"
    }
   ],
   "source": [
    "#baseline model for predictions:\n",
    "df_train['Sentiment'].value_counts(normalize = True).sort_index()"
   ]
  },
  {
   "cell_type": "code",
   "execution_count": 14,
   "id": "68e1983a-e4b2-4a3b-b78a-01e34dd2885d",
   "metadata": {},
   "outputs": [
    {
     "data": {
      "text/plain": [
       "0         A series of escapades demonstrating the adage that what is good for the goose is also good for the gander , some of which occasionally amuses but none of which amounts to much of a story .\n",
       "63                                                                                                                          This quiet , introspective and entertaining independent is worth seeking .\n",
       "81                                                                                                Even fans of Ismail Merchant 's work , I suspect , would have a hard time sitting through this one .\n",
       "116                                           A positively thrilling combination of ethnography and all the intrigue , betrayal , deceit and murder of a Shakespearean tragedy or a juicy soap opera .\n",
       "156                                                                                                                                       Aggressive self-glorification and a manipulative whitewash .\n",
       "                                                                                                      ...                                                                                             \n",
       "155984                                                                                                              ... either you 're willing to go with this claustrophobic concept or you 're not .\n",
       "155997                                        Despite these annoyances , the capable Clayburgh and Tambor really do a great job of anchoring the characters in the emotional realities of middle age .\n",
       "156021                                                                                                               -LRB- Tries -RRB- to parody a genre that 's already a joke in the United States .\n",
       "156031                                                                                                                                   The movie 's downfall is to substitute plot for personality .\n",
       "156039                                                       The film is darkly atmospheric , with Herrmann quietly suggesting the sadness and obsession beneath Hearst 's forced avuncular chortles .\n",
       "Name: Phrase, Length: 8529, dtype: object"
      ]
     },
     "execution_count": 14,
     "metadata": {},
     "output_type": "execute_result"
    }
   ],
   "source": [
    "#CHECK\n",
    "#CHECK\n",
    "#CHECK\n",
    "\n",
    "df_train['Phrase']"
   ]
  },
  {
   "cell_type": "markdown",
   "id": "c67f917f-79d4-4ffb-b65d-2ba8b7f09b73",
   "metadata": {},
   "source": [
    "- The classes are not equally represented, we'll need to stratify on 'y' when doing train_test_split."
   ]
  },
  {
   "cell_type": "code",
   "execution_count": 15,
   "id": "178d6085-b13a-4d78-a4c5-b537839b7720",
   "metadata": {},
   "outputs": [
    {
     "data": {
      "text/plain": [
       "mean    2.063196\n",
       "std     1.276636\n",
       "min     0.000000\n",
       "25%     1.000000\n",
       "50%     2.000000\n",
       "75%     3.000000\n",
       "max     4.000000\n",
       "Name: Sentiment, dtype: float64"
      ]
     },
     "execution_count": 15,
     "metadata": {},
     "output_type": "execute_result"
    }
   ],
   "source": [
    "#descriptive stats:\n",
    "df_train['Sentiment'].describe().drop('count').T"
   ]
  },
  {
   "cell_type": "code",
   "execution_count": 16,
   "id": "e6aececc-5bfd-4aca-9e81-f334ed3d227a",
   "metadata": {},
   "outputs": [
    {
     "data": {
      "image/png": "[encoded data removed]",
      "text/plain": [
       "<Figure size 432x288 with 1 Axes>"
      ]
     },
     "metadata": {
      "needs_background": "light"
     },
     "output_type": "display_data"
    }
   ],
   "source": [
    "sns.histplot(data = df_train,\n",
    "             x = 'Sentiment',\n",
    "             binwidth = .5,\n",
    "             binrange = (0, 5))\n",
    "plt.title('Frequency of Sentiment Scores');"
   ]
  },
  {
   "cell_type": "markdown",
   "id": "8d038259-faf4-4566-895d-5f64c5217832",
   "metadata": {},
   "source": [
    "**Pre-Processing**"
   ]
  },
  {
   "cell_type": "code",
   "execution_count": 17,
   "id": "56950cc8-770c-42cf-a510-aa7ada869de2",
   "metadata": {},
   "outputs": [
    {
     "data": {
      "text/html": [
       "<div>\n",
       "<style scoped>\n",
       "    .dataframe tbody tr th:only-of-type {\n",
       "        vertical-align: middle;\n",
       "    }\n",
       "\n",
       "    .dataframe tbody tr th {\n",
       "        vertical-align: top;\n",
       "    }\n",
       "\n",
       "    .dataframe thead th {\n",
       "        text-align: right;\n",
       "    }\n",
       "</style>\n",
       "<table border=\"1\" class=\"dataframe\">\n",
       "  <thead>\n",
       "    <tr style=\"text-align: right;\">\n",
       "      <th></th>\n",
       "      <th>bad</th>\n",
       "      <th>best</th>\n",
       "      <th>characters</th>\n",
       "      <th>comedy</th>\n",
       "      <th>director</th>\n",
       "      <th>does</th>\n",
       "      <th>film</th>\n",
       "      <th>funny</th>\n",
       "      <th>good</th>\n",
       "      <th>just</th>\n",
       "      <th>...</th>\n",
       "      <th>make</th>\n",
       "      <th>makes</th>\n",
       "      <th>movie</th>\n",
       "      <th>movies</th>\n",
       "      <th>new</th>\n",
       "      <th>rrb</th>\n",
       "      <th>story</th>\n",
       "      <th>time</th>\n",
       "      <th>way</th>\n",
       "      <th>work</th>\n",
       "    </tr>\n",
       "  </thead>\n",
       "  <tbody>\n",
       "    <tr>\n",
       "      <th>0</th>\n",
       "      <td>0</td>\n",
       "      <td>0</td>\n",
       "      <td>0</td>\n",
       "      <td>0</td>\n",
       "      <td>0</td>\n",
       "      <td>0</td>\n",
       "      <td>0</td>\n",
       "      <td>0</td>\n",
       "      <td>2</td>\n",
       "      <td>0</td>\n",
       "      <td>...</td>\n",
       "      <td>0</td>\n",
       "      <td>0</td>\n",
       "      <td>0</td>\n",
       "      <td>0</td>\n",
       "      <td>0</td>\n",
       "      <td>0</td>\n",
       "      <td>1</td>\n",
       "      <td>0</td>\n",
       "      <td>0</td>\n",
       "      <td>0</td>\n",
       "    </tr>\n",
       "    <tr>\n",
       "      <th>1</th>\n",
       "      <td>0</td>\n",
       "      <td>0</td>\n",
       "      <td>0</td>\n",
       "      <td>0</td>\n",
       "      <td>0</td>\n",
       "      <td>0</td>\n",
       "      <td>0</td>\n",
       "      <td>0</td>\n",
       "      <td>0</td>\n",
       "      <td>0</td>\n",
       "      <td>...</td>\n",
       "      <td>0</td>\n",
       "      <td>0</td>\n",
       "      <td>0</td>\n",
       "      <td>0</td>\n",
       "      <td>0</td>\n",
       "      <td>0</td>\n",
       "      <td>0</td>\n",
       "      <td>0</td>\n",
       "      <td>0</td>\n",
       "      <td>0</td>\n",
       "    </tr>\n",
       "    <tr>\n",
       "      <th>2</th>\n",
       "      <td>0</td>\n",
       "      <td>0</td>\n",
       "      <td>0</td>\n",
       "      <td>0</td>\n",
       "      <td>0</td>\n",
       "      <td>0</td>\n",
       "      <td>0</td>\n",
       "      <td>0</td>\n",
       "      <td>0</td>\n",
       "      <td>0</td>\n",
       "      <td>...</td>\n",
       "      <td>0</td>\n",
       "      <td>0</td>\n",
       "      <td>0</td>\n",
       "      <td>0</td>\n",
       "      <td>0</td>\n",
       "      <td>0</td>\n",
       "      <td>0</td>\n",
       "      <td>1</td>\n",
       "      <td>0</td>\n",
       "      <td>1</td>\n",
       "    </tr>\n",
       "    <tr>\n",
       "      <th>3</th>\n",
       "      <td>0</td>\n",
       "      <td>0</td>\n",
       "      <td>0</td>\n",
       "      <td>0</td>\n",
       "      <td>0</td>\n",
       "      <td>0</td>\n",
       "      <td>0</td>\n",
       "      <td>0</td>\n",
       "      <td>0</td>\n",
       "      <td>0</td>\n",
       "      <td>...</td>\n",
       "      <td>0</td>\n",
       "      <td>0</td>\n",
       "      <td>0</td>\n",
       "      <td>0</td>\n",
       "      <td>0</td>\n",
       "      <td>0</td>\n",
       "      <td>0</td>\n",
       "      <td>0</td>\n",
       "      <td>0</td>\n",
       "      <td>0</td>\n",
       "    </tr>\n",
       "    <tr>\n",
       "      <th>4</th>\n",
       "      <td>0</td>\n",
       "      <td>0</td>\n",
       "      <td>0</td>\n",
       "      <td>0</td>\n",
       "      <td>0</td>\n",
       "      <td>0</td>\n",
       "      <td>0</td>\n",
       "      <td>0</td>\n",
       "      <td>0</td>\n",
       "      <td>0</td>\n",
       "      <td>...</td>\n",
       "      <td>0</td>\n",
       "      <td>0</td>\n",
       "      <td>0</td>\n",
       "      <td>0</td>\n",
       "      <td>0</td>\n",
       "      <td>0</td>\n",
       "      <td>0</td>\n",
       "      <td>0</td>\n",
       "      <td>0</td>\n",
       "      <td>0</td>\n",
       "    </tr>\n",
       "  </tbody>\n",
       "</table>\n",
       "<p>5 rows × 25 columns</p>\n",
       "</div>"
      ],
      "text/plain": [
       "   bad  best  characters  comedy  director  does  film  funny  good  just  \\\n",
       "0    0     0           0       0         0     0     0      0     2     0   \n",
       "1    0     0           0       0         0     0     0      0     0     0   \n",
       "2    0     0           0       0         0     0     0      0     0     0   \n",
       "3    0     0           0       0         0     0     0      0     0     0   \n",
       "4    0     0           0       0         0     0     0      0     0     0   \n",
       "\n",
       "   ...  make  makes  movie  movies  new  rrb  story  time  way  work  \n",
       "0  ...     0      0      0       0    0    0      1     0    0     0  \n",
       "1  ...     0      0      0       0    0    0      0     0    0     0  \n",
       "2  ...     0      0      0       0    0    0      0     1    0     1  \n",
       "3  ...     0      0      0       0    0    0      0     0    0     0  \n",
       "4  ...     0      0      0       0    0    0      0     0    0     0  \n",
       "\n",
       "[5 rows x 25 columns]"
      ]
     },
     "execution_count": 17,
     "metadata": {},
     "output_type": "execute_result"
    }
   ],
   "source": [
    "#using bag of words to find and build on additional stop words:\n",
    "cvec = CountVectorizer(analyzer = 'word',\n",
    "                       stop_words = 'english',\n",
    "                       max_features = 25)\n",
    "\n",
    "# input for CountVectorizer is an array of strings\n",
    "working_df = df_train['Phrase']\n",
    "\n",
    "# fit_transform the vectorizer\n",
    "cvec_stop_words = cvec.fit_transform(working_df)\n",
    "\n",
    "cvec_stop_words = pd.DataFrame(cvec_stop_words.todense(),\n",
    "                               columns = cvec.get_feature_names_out())\n",
    "\n",
    "cvec_stop_words.head()"
   ]
  },
  {
   "cell_type": "code",
   "execution_count": 18,
   "id": "0a560f29-8166-4853-86f0-d64552420824",
   "metadata": {},
   "outputs": [
    {
     "data": {
      "text/plain": [
       "['bad',\n",
       " 'best',\n",
       " 'characters',\n",
       " 'comedy',\n",
       " 'director',\n",
       " 'does',\n",
       " 'film',\n",
       " 'funny',\n",
       " 'good',\n",
       " 'just',\n",
       " 'life',\n",
       " 'like',\n",
       " 'little',\n",
       " 'love',\n",
       " 'lrb',\n",
       " 'make',\n",
       " 'makes',\n",
       " 'movie',\n",
       " 'movies',\n",
       " 'new',\n",
       " 'rrb',\n",
       " 'story',\n",
       " 'time',\n",
       " 'way',\n",
       " 'work']"
      ]
     },
     "execution_count": 18,
     "metadata": {},
     "output_type": "execute_result"
    }
   ],
   "source": [
    "top25words_w_cvec_stopwords = cvec_stop_words.sum().sort_values(ascending = False)[:25]\n",
    "list(top25words_w_cvec_stopwords.sort_index().keys())"
   ]
  },
  {
   "cell_type": "code",
   "execution_count": 19,
   "id": "19904393-59ee-4711-808e-c41d23ae7850",
   "metadata": {},
   "outputs": [
    {
     "data": {
      "image/png": "[encoded data removed]",
      "text/plain": [
       "<Figure size 576x432 with 1 Axes>"
      ]
     },
     "metadata": {
      "needs_background": "light"
     },
     "output_type": "display_data"
    }
   ],
   "source": [
    "plt.figure(figsize = (8, 6))\n",
    "\n",
    "plt.title('Top 25 Words (CountVectorizer Stop Words Removed)',\n",
    "          y = 1.02,\n",
    "          fontweight = 'bold')\n",
    "\n",
    "top25words_w_cvec_stopwords.plot(kind = 'barh')\n",
    "\n",
    "plt.xlabel('Count', \n",
    "           fontweight = 'bold')\n",
    "plt.xticks(rotation = 45)\n",
    "\n",
    "plt.ylabel('Word',\n",
    "           fontweight = 'bold');"
   ]
  },
  {
   "cell_type": "code",
   "execution_count": 20,
   "id": "7917b9dc-4d80-4038-9b5e-093c1aebc4d4",
   "metadata": {},
   "outputs": [],
   "source": [
    "#forgot stop words import from sklearn at document head:\n",
    "from sklearn.feature_extraction import text\n",
    "\n",
    "stop_words = text.ENGLISH_STOP_WORDS"
   ]
  },
  {
   "cell_type": "code",
   "execution_count": 21,
   "id": "e240e6f4-8444-4d4c-846f-b01242fbbeda",
   "metadata": {},
   "outputs": [
    {
     "data": {
      "text/html": [
       "<div>\n",
       "<style scoped>\n",
       "    .dataframe tbody tr th:only-of-type {\n",
       "        vertical-align: middle;\n",
       "    }\n",
       "\n",
       "    .dataframe tbody tr th {\n",
       "        vertical-align: top;\n",
       "    }\n",
       "\n",
       "    .dataframe thead th {\n",
       "        text-align: right;\n",
       "    }\n",
       "</style>\n",
       "<table border=\"1\" class=\"dataframe\">\n",
       "  <thead>\n",
       "    <tr style=\"text-align: right;\">\n",
       "      <th></th>\n",
       "      <th>bad</th>\n",
       "      <th>best</th>\n",
       "      <th>characters</th>\n",
       "      <th>comedy</th>\n",
       "      <th>director</th>\n",
       "      <th>does</th>\n",
       "      <th>film</th>\n",
       "      <th>funny</th>\n",
       "      <th>good</th>\n",
       "      <th>just</th>\n",
       "      <th>...</th>\n",
       "      <th>make</th>\n",
       "      <th>makes</th>\n",
       "      <th>movie</th>\n",
       "      <th>movies</th>\n",
       "      <th>new</th>\n",
       "      <th>rrb</th>\n",
       "      <th>story</th>\n",
       "      <th>time</th>\n",
       "      <th>way</th>\n",
       "      <th>work</th>\n",
       "    </tr>\n",
       "  </thead>\n",
       "  <tbody>\n",
       "    <tr>\n",
       "      <th>0</th>\n",
       "      <td>0</td>\n",
       "      <td>0</td>\n",
       "      <td>0</td>\n",
       "      <td>0</td>\n",
       "      <td>0</td>\n",
       "      <td>0</td>\n",
       "      <td>0</td>\n",
       "      <td>0</td>\n",
       "      <td>2</td>\n",
       "      <td>0</td>\n",
       "      <td>...</td>\n",
       "      <td>0</td>\n",
       "      <td>0</td>\n",
       "      <td>0</td>\n",
       "      <td>0</td>\n",
       "      <td>0</td>\n",
       "      <td>0</td>\n",
       "      <td>1</td>\n",
       "      <td>0</td>\n",
       "      <td>0</td>\n",
       "      <td>0</td>\n",
       "    </tr>\n",
       "    <tr>\n",
       "      <th>1</th>\n",
       "      <td>0</td>\n",
       "      <td>0</td>\n",
       "      <td>0</td>\n",
       "      <td>0</td>\n",
       "      <td>0</td>\n",
       "      <td>0</td>\n",
       "      <td>0</td>\n",
       "      <td>0</td>\n",
       "      <td>0</td>\n",
       "      <td>0</td>\n",
       "      <td>...</td>\n",
       "      <td>0</td>\n",
       "      <td>0</td>\n",
       "      <td>0</td>\n",
       "      <td>0</td>\n",
       "      <td>0</td>\n",
       "      <td>0</td>\n",
       "      <td>0</td>\n",
       "      <td>0</td>\n",
       "      <td>0</td>\n",
       "      <td>0</td>\n",
       "    </tr>\n",
       "    <tr>\n",
       "      <th>2</th>\n",
       "      <td>0</td>\n",
       "      <td>0</td>\n",
       "      <td>0</td>\n",
       "      <td>0</td>\n",
       "      <td>0</td>\n",
       "      <td>0</td>\n",
       "      <td>0</td>\n",
       "      <td>0</td>\n",
       "      <td>0</td>\n",
       "      <td>0</td>\n",
       "      <td>...</td>\n",
       "      <td>0</td>\n",
       "      <td>0</td>\n",
       "      <td>0</td>\n",
       "      <td>0</td>\n",
       "      <td>0</td>\n",
       "      <td>0</td>\n",
       "      <td>0</td>\n",
       "      <td>1</td>\n",
       "      <td>0</td>\n",
       "      <td>1</td>\n",
       "    </tr>\n",
       "    <tr>\n",
       "      <th>3</th>\n",
       "      <td>0</td>\n",
       "      <td>0</td>\n",
       "      <td>0</td>\n",
       "      <td>0</td>\n",
       "      <td>0</td>\n",
       "      <td>0</td>\n",
       "      <td>0</td>\n",
       "      <td>0</td>\n",
       "      <td>0</td>\n",
       "      <td>0</td>\n",
       "      <td>...</td>\n",
       "      <td>0</td>\n",
       "      <td>0</td>\n",
       "      <td>0</td>\n",
       "      <td>0</td>\n",
       "      <td>0</td>\n",
       "      <td>0</td>\n",
       "      <td>0</td>\n",
       "      <td>0</td>\n",
       "      <td>0</td>\n",
       "      <td>0</td>\n",
       "    </tr>\n",
       "    <tr>\n",
       "      <th>4</th>\n",
       "      <td>0</td>\n",
       "      <td>0</td>\n",
       "      <td>0</td>\n",
       "      <td>0</td>\n",
       "      <td>0</td>\n",
       "      <td>0</td>\n",
       "      <td>0</td>\n",
       "      <td>0</td>\n",
       "      <td>0</td>\n",
       "      <td>0</td>\n",
       "      <td>...</td>\n",
       "      <td>0</td>\n",
       "      <td>0</td>\n",
       "      <td>0</td>\n",
       "      <td>0</td>\n",
       "      <td>0</td>\n",
       "      <td>0</td>\n",
       "      <td>0</td>\n",
       "      <td>0</td>\n",
       "      <td>0</td>\n",
       "      <td>0</td>\n",
       "    </tr>\n",
       "  </tbody>\n",
       "</table>\n",
       "<p>5 rows × 25 columns</p>\n",
       "</div>"
      ],
      "text/plain": [
       "   bad  best  characters  comedy  director  does  film  funny  good  just  \\\n",
       "0    0     0           0       0         0     0     0      0     2     0   \n",
       "1    0     0           0       0         0     0     0      0     0     0   \n",
       "2    0     0           0       0         0     0     0      0     0     0   \n",
       "3    0     0           0       0         0     0     0      0     0     0   \n",
       "4    0     0           0       0         0     0     0      0     0     0   \n",
       "\n",
       "   ...  make  makes  movie  movies  new  rrb  story  time  way  work  \n",
       "0  ...     0      0      0       0    0    0      1     0    0     0  \n",
       "1  ...     0      0      0       0    0    0      0     0    0     0  \n",
       "2  ...     0      0      0       0    0    0      0     1    0     1  \n",
       "3  ...     0      0      0       0    0    0      0     0    0     0  \n",
       "4  ...     0      0      0       0    0    0      0     0    0     0  \n",
       "\n",
       "[5 rows x 25 columns]"
      ]
     },
     "execution_count": 21,
     "metadata": {},
     "output_type": "execute_result"
    }
   ],
   "source": [
    "# top 25 words - with stop words (from sklearn)\n",
    "cvec_sklearn_stop_words = CountVectorizer(stop_words = stop_words,\n",
    "                                          max_features = 25)\n",
    "\n",
    "workingdf_sklearn_stop_words = cvec_sklearn_stop_words.fit_transform(working_df)\n",
    "\n",
    "workingdf_sklearn_stop_words = pd.DataFrame(workingdf_sklearn_stop_words.todense(),\n",
    "                                            columns = cvec_sklearn_stop_words.get_feature_names_out())\n",
    "\n",
    "workingdf_sklearn_stop_words.head()"
   ]
  },
  {
   "cell_type": "code",
   "execution_count": 22,
   "id": "c2ea016e-8cd6-4faa-9919-a7cecd90c006",
   "metadata": {},
   "outputs": [
    {
     "data": {
      "text/plain": [
       "['bad',\n",
       " 'best',\n",
       " 'characters',\n",
       " 'comedy',\n",
       " 'director',\n",
       " 'does',\n",
       " 'film',\n",
       " 'funny',\n",
       " 'good',\n",
       " 'just',\n",
       " 'life',\n",
       " 'like',\n",
       " 'little',\n",
       " 'love',\n",
       " 'lrb',\n",
       " 'make',\n",
       " 'makes',\n",
       " 'movie',\n",
       " 'movies',\n",
       " 'new',\n",
       " 'rrb',\n",
       " 'story',\n",
       " 'time',\n",
       " 'way',\n",
       " 'work']"
      ]
     },
     "execution_count": 22,
     "metadata": {},
     "output_type": "execute_result"
    }
   ],
   "source": [
    "top25_words_sklearn_stop = workingdf_sklearn_stop_words.sum().sort_values(ascending = False)[:25]\n",
    "list(top25_words_sklearn_stop.sort_index().keys())"
   ]
  },
  {
   "cell_type": "code",
   "execution_count": 23,
   "id": "b54833a7-84f7-47ab-a912-339ad8ba5f54",
   "metadata": {},
   "outputs": [
    {
     "data": {
      "image/png": "[encoded data removed]",
      "text/plain": [
       "<Figure size 576x432 with 1 Axes>"
      ]
     },
     "metadata": {
      "needs_background": "light"
     },
     "output_type": "display_data"
    }
   ],
   "source": [
    "plt.figure(figsize = (8, 6))\n",
    "\n",
    "#https://datascience.stackexchange.com/questions/91051/how-to-professionally-spell-library-names-such-as-scikit-learn\n",
    "plt.title('Top 25 Words (Sci-kit learn Stop Words Removed)',\n",
    "          y = 1.02,\n",
    "          fontweight = 'bold')\n",
    "\n",
    "top25_words_sklearn_stop.plot(kind = 'barh')\n",
    "\n",
    "plt.xlabel('Count', \n",
    "           fontweight = 'bold')\n",
    "plt.xticks(rotation = 45)\n",
    "\n",
    "plt.ylabel('Word',\n",
    "           fontweight = 'bold');"
   ]
  },
  {
   "cell_type": "markdown",
   "id": "b523c466-b9df-46d3-a308-2bbec32bb93e",
   "metadata": {},
   "source": [
    "- When you exclude Sci-kit learn's stop words and CountVectorizer's stop words, the top 25 words in the corpus are the same. "
   ]
  },
  {
   "cell_type": "code",
   "execution_count": 24,
   "id": "cae5ceee-935f-4193-ac35-95ca1cfcfe3e",
   "metadata": {},
   "outputs": [],
   "source": [
    "#Most common words where 'Sentiment' = 3\n",
    "#using bag of words to find and build on additional stop words:\n",
    "cvec = CountVectorizer(analyzer = 'word',\n",
    "                       stop_words = 'english',\n",
    "                       max_features = 50) \n",
    "\n",
    "df_sentiment3 = df_train[df_train['Sentiment'] == 3]['Phrase']\n",
    "\n",
    "# fit_transform the vectorizer\n",
    "sentiment3_words = cvec.fit_transform(df_sentiment3)\n",
    "\n",
    "# convert output to a Numpy array\n",
    "sentiment3_words = sentiment3_words.toarray()"
   ]
  },
  {
   "cell_type": "code",
   "execution_count": 25,
   "id": "2c1d6ec8-35c2-4932-aeef-4496590cc0bf",
   "metadata": {},
   "outputs": [
    {
     "name": "stdout",
     "output_type": "stream",
     "text": [
      "['american' 'best' 'big' 'cast' 'character' 'characters' 'comedy'\n",
      " 'director' 'does' 'drama' 'end' 'entertaining' 'family' 'film' 'films'\n",
      " 'fun' 'funny' 'good' 'great' 'heart' 'human' 'just' 'life' 'like'\n",
      " 'little' 'look' 'love' 'lrb' 'make' 'makes' 'man' 'movie' 'movies' 'new'\n",
      " 'old' 'people' 'performances' 'real' 'right' 'rrb' 'sense' 'story' 'tale'\n",
      " 'thriller' 'time' 'way' 'work' 'works' 'world' 'worth']\n"
     ]
    }
   ],
   "source": [
    "#most common words from where 'Sentiment' = 3:\n",
    "sentiment3_words = cvec.get_feature_names_out()\n",
    "print(sentiment3_words)"
   ]
  },
  {
   "cell_type": "code",
   "execution_count": 26,
   "id": "34f529e5-e873-4818-9bc0-c3da3b37eda8",
   "metadata": {},
   "outputs": [],
   "source": [
    "#setting up customized stop words to use in modeling:\n",
    "cust_stop_words = stopwords.words('english')\n",
    "\n",
    "cust_stop_words = cust_stop_words + list(top25_words_sklearn_stop.keys())"
   ]
  },
  {
   "cell_type": "code",
   "execution_count": 27,
   "id": "a3c73e38-8d01-4505-934d-01321bcdb946",
   "metadata": {},
   "outputs": [],
   "source": [
    "cust_stop_words = cust_stop_words + list(stop_words)"
   ]
  },
  {
   "cell_type": "markdown",
   "id": "51d75e22-b48b-4137-b98b-00bd6a1998cf",
   "metadata": {},
   "source": [
    "**Modeling**"
   ]
  },
  {
   "cell_type": "code",
   "execution_count": 28,
   "id": "d12fb8d9-de7b-4118-bb42-c1dab2d33980",
   "metadata": {},
   "outputs": [],
   "source": [
    "#setting up features and target\n",
    "X = df_train['Phrase']\n",
    "y = df_train['Sentiment']\n",
    "\n",
    "#train_test_split\n",
    "X_train, X_test, y_train, y_test = train_test_split(X, y, \n",
    "                                                    test_size = 0.2,\n",
    "                                                    stratify = y)"
   ]
  },
  {
   "cell_type": "code",
   "execution_count": 29,
   "id": "9336de7b-e64d-4e9e-9740-a9a73bfe2432",
   "metadata": {},
   "outputs": [
    {
     "data": {
      "text/plain": [
       "0    0.13\n",
       "1    0.26\n",
       "2    0.19\n",
       "3    0.27\n",
       "4    0.15\n",
       "Name: Sentiment, dtype: float64"
      ]
     },
     "execution_count": 29,
     "metadata": {},
     "output_type": "execute_result"
    }
   ],
   "source": [
    "#for ease of reference, baseline accuracy:\n",
    "y.value_counts(normalize = True).sort_index().round(2)"
   ]
  },
  {
   "cell_type": "markdown",
   "id": "9960ec64-b31e-4582-8aab-10bf631b58a3",
   "metadata": {},
   "source": [
    "## Pipelines"
   ]
  },
  {
   "cell_type": "markdown",
   "id": "d46785be-e99e-4296-a9fc-93b60108f529",
   "metadata": {},
   "source": [
    "**with CountVectorizer**"
   ]
  },
  {
   "cell_type": "code",
   "execution_count": 30,
   "id": "d7ad81c5-6eab-4831-8e6d-d04ae1c2f527",
   "metadata": {},
   "outputs": [],
   "source": [
    "# First pipeline:\n",
    "# 1. CountVectorizer (transformer)\n",
    "# 2. Multinomial Naive Bayes (estimator)\n",
    "\n",
    "pipe = Pipeline([\n",
    "    ('cvec', CountVectorizer()),\n",
    "    ('nb', MultinomialNB()),\n",
    "])"
   ]
  },
  {
   "cell_type": "code",
   "execution_count": 31,
   "id": "5181c0d7-775d-4c3e-ac49-6d6d21b9f1c8",
   "metadata": {},
   "outputs": [
    {
     "data": {
      "text/plain": [
       "0.3907363056175721"
      ]
     },
     "execution_count": 31,
     "metadata": {},
     "output_type": "execute_result"
    }
   ],
   "source": [
    "cross_val_score(pipe, X_train, y_train, cv = 3).mean()"
   ]
  },
  {
   "cell_type": "code",
   "execution_count": 32,
   "id": "0d3478e7-bb8b-47cb-9f06-ae08c09777a3",
   "metadata": {},
   "outputs": [],
   "source": [
    "pipe_params = {\n",
    "    'cvec__stop_words': ['english', cust_stop_words],\n",
    "    'cvec__max_features': [None, 250, 500], \n",
    "    'cvec__min_df': [1, 2, 3], \n",
    "    'cvec__max_df': [1.0, .98, .95],\n",
    "    'cvec__ngram_range': [(1, 1), (1, 2)]\n",
    "              }"
   ]
  },
  {
   "cell_type": "code",
   "execution_count": 33,
   "id": "57ec02b6-f602-4492-8bd6-7ea1373c11ff",
   "metadata": {},
   "outputs": [],
   "source": [
    "#Instantiating GridSearchCV:\n",
    "gs = GridSearchCV(pipe,\n",
    "                  param_grid = pipe_params,\n",
    "                  cv = 5)"
   ]
  },
  {
   "cell_type": "code",
   "execution_count": 34,
   "id": "e64b9dd6-181a-4193-8ad4-5fa1902d22ac",
   "metadata": {},
   "outputs": [
    {
     "data": {
      "text/plain": [
       "GridSearchCV(cv=5,\n",
       "             estimator=Pipeline(steps=[('cvec', CountVectorizer()),\n",
       "                                       ('nb', MultinomialNB())]),\n",
       "             param_grid={'cvec__max_df': [1.0, 0.98, 0.95],\n",
       "                         'cvec__max_features': [None, 250, 500],\n",
       "                         'cvec__min_df': [1, 2, 3],\n",
       "                         'cvec__ngram_range': [(1, 1), (1, 2)],\n",
       "                         'cvec__stop_words': ['english',\n",
       "                                              ['i', 'me', 'my', 'myself', 'we',\n",
       "                                               'our', 'ours', 'ourselves',\n",
       "                                               'you', \"you're\", \"you've\",\n",
       "                                               \"you'll\", \"you'd\", 'your',\n",
       "                                               'yours', 'yourself',\n",
       "                                               'yourselves', 'he', 'him', 'his',\n",
       "                                               'himself', 'she', \"she's\", 'her',\n",
       "                                               'hers', 'herself', 'it', \"it's\",\n",
       "                                               'its', 'itself', ...]]})"
      ]
     },
     "execution_count": 34,
     "metadata": {},
     "output_type": "execute_result"
    }
   ],
   "source": [
    "# Fit GridSearch to training data.\n",
    "gs.fit(X_train, y_train)"
   ]
  },
  {
   "cell_type": "code",
   "execution_count": 35,
   "id": "4df6fd95-19f3-4347-9f1d-1549842538be",
   "metadata": {},
   "outputs": [],
   "source": [
    "#function to print results from model:\n",
    "def gridsearch_outcome(gs_obj):\n",
    "    preds = gs_obj.predict(X_test)\n",
    "    res = print(f'Best Score: {gs_obj.best_score_} \\n\\nBest Params: {gs_obj.best_params_} \\n\\nClassification Report: \\n{classification_report(preds, y_test)}')\n",
    "    return res"
   ]
  },
  {
   "cell_type": "code",
   "execution_count": 36,
   "id": "3659d4f7-f20d-407d-af95-d470e24ae422",
   "metadata": {},
   "outputs": [
    {
     "name": "stdout",
     "output_type": "stream",
     "text": [
      "Best Score: 0.3691899498351111 \n",
      "\n",
      "Best Params: {'cvec__max_df': 1.0, 'cvec__max_features': None, 'cvec__min_df': 1, 'cvec__ngram_range': (1, 2), 'cvec__stop_words': 'english'} \n",
      "\n",
      "Classification Report: \n",
      "              precision    recall  f1-score   support\n",
      "\n",
      "           0       0.07      0.42      0.13        38\n",
      "           1       0.55      0.38      0.45       639\n",
      "           2       0.12      0.33      0.18       121\n",
      "           3       0.69      0.39      0.50       815\n",
      "           4       0.18      0.48      0.26        93\n",
      "\n",
      "    accuracy                           0.39      1706\n",
      "   macro avg       0.32      0.40      0.30      1706\n",
      "weighted avg       0.56      0.39      0.44      1706\n",
      "\n"
     ]
    }
   ],
   "source": [
    "gridsearch_outcome(gs)"
   ]
  },
  {
   "cell_type": "code",
   "execution_count": 37,
   "id": "6511c995-706f-41ce-a6dc-8b2e9b1a35db",
   "metadata": {},
   "outputs": [
    {
     "data": {
      "text/plain": [
       "(0.9677561190092335, 0.3892145369284877)"
      ]
     },
     "execution_count": 37,
     "metadata": {},
     "output_type": "execute_result"
    }
   ],
   "source": [
    "gs.score(X_train, y_train), gs.score(X_test, y_test)"
   ]
  },
  {
   "cell_type": "code",
   "execution_count": 38,
   "id": "c38fa4a3-247e-46f7-8009-9a9f9bd1ddf4",
   "metadata": {},
   "outputs": [],
   "source": [
    "#generating predictions:\n",
    "preds = gs.predict(X_test)"
   ]
  },
  {
   "cell_type": "code",
   "execution_count": 39,
   "id": "6bd207c7-1688-44c3-a2e0-65c06a41c625",
   "metadata": {},
   "outputs": [
    {
     "data": {
      "image/png": "[encoded data removed]",
      "text/plain": [
       "<Figure size 432x288 with 2 Axes>"
      ]
     },
     "metadata": {
      "needs_background": "light"
     },
     "output_type": "display_data"
    }
   ],
   "source": [
    "cm = confusion_matrix(y_test,\n",
    "                      preds,\n",
    "                      labels= gs.classes_)\n",
    "\n",
    "disp = ConfusionMatrixDisplay(confusion_matrix = cm,\n",
    "                              display_labels= gs.classes_)\n",
    "\n",
    "disp.plot()\n",
    "plt.show()"
   ]
  },
  {
   "cell_type": "code",
   "execution_count": 40,
   "id": "3a677ddb-0769-40d3-8ea1-fef5e618e019",
   "metadata": {},
   "outputs": [
    {
     "data": {
      "image/png": "[encoded data removed]",
      "text/plain": [
       "<Figure size 432x288 with 2 Axes>"
      ]
     },
     "metadata": {
      "needs_background": "light"
     },
     "output_type": "display_data"
    }
   ],
   "source": [
    "#or like this:\n",
    "ConfusionMatrixDisplay.from_estimator(gs, X_test, y_test)\n",
    "\n",
    "plt.show()"
   ]
  },
  {
   "cell_type": "code",
   "execution_count": 41,
   "id": "0831848a-3bbd-427e-b7bd-f3fe8dce6fa2",
   "metadata": {},
   "outputs": [],
   "source": [
    "# Second pipeline:\n",
    "# 1. CountVectorizer (transformer)\n",
    "# 2. LogReg (estimator)\n",
    "\n",
    "pipe1 = Pipeline([\n",
    "    ('cvec', CountVectorizer()),\n",
    "    ('LogReg', LogisticRegression(max_iter = 10_000)),\n",
    "                ])"
   ]
  },
  {
   "cell_type": "code",
   "execution_count": 63,
   "id": "a2534fbf-4aab-48c0-99fd-51db20690f24",
   "metadata": {},
   "outputs": [
    {
     "data": {
      "text/plain": [
       "0.36611492875345125"
      ]
     },
     "execution_count": 63,
     "metadata": {},
     "output_type": "execute_result"
    }
   ],
   "source": [
    "cross_val_score(pipe1, X_train, y_train, cv = 3).mean()"
   ]
  },
  {
   "cell_type": "code",
   "execution_count": 42,
   "id": "c8bc9b5e-e264-432e-a962-bb50187dbc6e",
   "metadata": {},
   "outputs": [],
   "source": [
    "#Instantiating GridSearchCV:\n",
    "gs1 = GridSearchCV(pipe1,\n",
    "                   param_grid = pipe_params,\n",
    "                   cv = 5)"
   ]
  },
  {
   "cell_type": "code",
   "execution_count": 43,
   "id": "8fe42b9f-5546-46d4-933a-fd7b83b3e620",
   "metadata": {},
   "outputs": [
    {
     "data": {
      "text/plain": [
       "GridSearchCV(cv=5,\n",
       "             estimator=Pipeline(steps=[('cvec', CountVectorizer()),\n",
       "                                       ('LogReg',\n",
       "                                        LogisticRegression(max_iter=10000))]),\n",
       "             param_grid={'cvec__max_df': [1.0, 0.98, 0.95],\n",
       "                         'cvec__max_features': [None, 250, 500],\n",
       "                         'cvec__min_df': [1, 2, 3],\n",
       "                         'cvec__ngram_range': [(1, 1), (1, 2)],\n",
       "                         'cvec__stop_words': ['english',\n",
       "                                              ['i', 'me', 'my', 'myself', 'we',\n",
       "                                               'our', 'ours', 'ourselves',\n",
       "                                               'you', \"you're\", \"you've\",\n",
       "                                               \"you'll\", \"you'd\", 'your',\n",
       "                                               'yours', 'yourself',\n",
       "                                               'yourselves', 'he', 'him', 'his',\n",
       "                                               'himself', 'she', \"she's\", 'her',\n",
       "                                               'hers', 'herself', 'it', \"it's\",\n",
       "                                               'its', 'itself', ...]]})"
      ]
     },
     "execution_count": 43,
     "metadata": {},
     "output_type": "execute_result"
    }
   ],
   "source": [
    "# Fit GridSearch to training data.\n",
    "gs1.fit(X_train, y_train)"
   ]
  },
  {
   "cell_type": "code",
   "execution_count": 44,
   "id": "3ad3411a-07b7-4121-b610-e0377215fb27",
   "metadata": {},
   "outputs": [
    {
     "name": "stdout",
     "output_type": "stream",
     "text": [
      "Best Score: 0.3703664077857626 \n",
      "\n",
      "Best Params: {'cvec__max_df': 1.0, 'cvec__max_features': None, 'cvec__min_df': 1, 'cvec__ngram_range': (1, 2), 'cvec__stop_words': 'english'} \n",
      "\n",
      "Classification Report: \n",
      "              precision    recall  f1-score   support\n",
      "\n",
      "           0       0.20      0.42      0.27        99\n",
      "           1       0.48      0.39      0.43       546\n",
      "           2       0.27      0.28      0.28       320\n",
      "           3       0.51      0.41      0.46       574\n",
      "           4       0.29      0.44      0.35       167\n",
      "\n",
      "    accuracy                           0.38      1706\n",
      "   macro avg       0.35      0.39      0.36      1706\n",
      "weighted avg       0.42      0.38      0.39      1706\n",
      "\n"
     ]
    }
   ],
   "source": [
    "gridsearch_outcome(gs1)"
   ]
  },
  {
   "cell_type": "code",
   "execution_count": 45,
   "id": "f95164b1-dbe0-4285-acf7-91b745be4f43",
   "metadata": {},
   "outputs": [
    {
     "data": {
      "text/plain": [
       "(0.9928184083247839, 0.38452520515826494)"
      ]
     },
     "execution_count": 45,
     "metadata": {},
     "output_type": "execute_result"
    }
   ],
   "source": [
    "gs1.score(X_train, y_train), gs1.score(X_test, y_test)"
   ]
  },
  {
   "cell_type": "code",
   "execution_count": 46,
   "id": "474106a8-eea8-44f6-869c-a0e4fb343513",
   "metadata": {},
   "outputs": [],
   "source": [
    "#generating predictions:\n",
    "preds1 = gs1.predict(X_test)"
   ]
  },
  {
   "cell_type": "code",
   "execution_count": 47,
   "id": "a4489923-dee6-4aeb-99fe-fbe6aae6c0d6",
   "metadata": {},
   "outputs": [
    {
     "data": {
      "image/png": "[encoded data removed]",
      "text/plain": [
       "<Figure size 432x288 with 2 Axes>"
      ]
     },
     "metadata": {
      "needs_background": "light"
     },
     "output_type": "display_data"
    }
   ],
   "source": [
    "ConfusionMatrixDisplay.from_estimator(gs1, X_test, y_test)\n",
    "\n",
    "plt.show()"
   ]
  },
  {
   "cell_type": "code",
   "execution_count": 48,
   "id": "afe759f1-ac2c-4a2a-be2a-4eba0dab2be7",
   "metadata": {},
   "outputs": [],
   "source": [
    "# Third pipeline:\n",
    "# 1. CountVectorizer (transformer)\n",
    "# 2. KNN Classifier (estimator)\n",
    "\n",
    "pipe2 = Pipeline([\n",
    "    ('cvec', CountVectorizer()),\n",
    "    ('knn', KNeighborsClassifier()),\n",
    "                ])"
   ]
  },
  {
   "cell_type": "code",
   "execution_count": 50,
   "id": "1166a101-c32f-433b-a627-d4a3a7199b94",
   "metadata": {},
   "outputs": [],
   "source": [
    "knn_pipe_params = {'cvec__stop_words': ['english', cust_stop_words],\n",
    "                   'cvec__max_features': [None, 250, 500], \n",
    "                   'cvec__min_df': [1, 2, 3], \n",
    "                   'cvec__max_df': [1.0, .98, .95],\n",
    "                   'cvec__ngram_range': [(1, 1), (1, 2)],\n",
    "                   'knn__n_neighbors': [5, 7, 9],\n",
    "                   'knn__p': [1, 2], \n",
    "                  }"
   ]
  },
  {
   "cell_type": "code",
   "execution_count": 51,
   "id": "6180747f-de72-4dd3-8269-d89d9c52fa70",
   "metadata": {},
   "outputs": [],
   "source": [
    "#Instantiating GridSearchCV:\n",
    "gs2 = GridSearchCV(pipe2,\n",
    "                   param_grid = knn_pipe_params,\n",
    "                   cv = 5)"
   ]
  },
  {
   "cell_type": "code",
   "execution_count": 52,
   "id": "e84e9c0f-4e20-4de3-9902-e9dec42bffc9",
   "metadata": {},
   "outputs": [
    {
     "data": {
      "text/plain": [
       "GridSearchCV(cv=5,\n",
       "             estimator=Pipeline(steps=[('cvec', CountVectorizer()),\n",
       "                                       ('knn', KNeighborsClassifier())]),\n",
       "             param_grid={'cvec__max_df': [1.0, 0.98, 0.95],\n",
       "                         'cvec__max_features': [None, 250, 500],\n",
       "                         'cvec__min_df': [1, 2, 3],\n",
       "                         'cvec__ngram_range': [(1, 1), (1, 2)],\n",
       "                         'cvec__stop_words': ['english',\n",
       "                                              ['i', 'me', 'my', 'myself', 'we',\n",
       "                                               'our', 'ours', 'ourselves',\n",
       "                                               'you', \"you're\", \"you've\",\n",
       "                                               \"you'll\", \"you'd\", 'your',\n",
       "                                               'yours', 'yourself',\n",
       "                                               'yourselves', 'he', 'him', 'his',\n",
       "                                               'himself', 'she', \"she's\", 'her',\n",
       "                                               'hers', 'herself', 'it', \"it's\",\n",
       "                                               'its', 'itself', ...]],\n",
       "                         'knn__n_neighbors': [5, 7, 9], 'knn__p': [1, 2]})"
      ]
     },
     "execution_count": 52,
     "metadata": {},
     "output_type": "execute_result"
    }
   ],
   "source": [
    "# Fit GridSearch to training data.\n",
    "gs2.fit(X_train, y_train)"
   ]
  },
  {
   "cell_type": "code",
   "execution_count": 53,
   "id": "4760ce94-b11c-42d1-88da-710e06d8b7b1",
   "metadata": {},
   "outputs": [
    {
     "name": "stdout",
     "output_type": "stream",
     "text": [
      "Best Score: 0.27319229157938835 \n",
      "\n",
      "Best Params: {'cvec__max_df': 1.0, 'cvec__max_features': 250, 'cvec__min_df': 3, 'cvec__ngram_range': (1, 1), 'cvec__stop_words': ['i', 'me', 'my', 'myself', 'we', 'our', 'ours', 'ourselves', 'you', \"you're\", \"you've\", \"you'll\", \"you'd\", 'your', 'yours', 'yourself', 'yourselves', 'he', 'him', 'his', 'himself', 'she', \"she's\", 'her', 'hers', 'herself', 'it', \"it's\", 'its', 'itself', 'they', 'them', 'their', 'theirs', 'themselves', 'what', 'which', 'who', 'whom', 'this', 'that', \"that'll\", 'these', 'those', 'am', 'is', 'are', 'was', 'were', 'be', 'been', 'being', 'have', 'has', 'had', 'having', 'do', 'does', 'did', 'doing', 'a', 'an', 'the', 'and', 'but', 'if', 'or', 'because', 'as', 'until', 'while', 'of', 'at', 'by', 'for', 'with', 'about', 'against', 'between', 'into', 'through', 'during', 'before', 'after', 'above', 'below', 'to', 'from', 'up', 'down', 'in', 'out', 'on', 'off', 'over', 'under', 'again', 'further', 'then', 'once', 'here', 'there', 'when', 'where', 'why', 'how', 'all', 'any', 'both', 'each', 'few', 'more', 'most', 'other', 'some', 'such', 'no', 'nor', 'not', 'only', 'own', 'same', 'so', 'than', 'too', 'very', 's', 't', 'can', 'will', 'just', 'don', \"don't\", 'should', \"should've\", 'now', 'd', 'll', 'm', 'o', 're', 've', 'y', 'ain', 'aren', \"aren't\", 'couldn', \"couldn't\", 'didn', \"didn't\", 'doesn', \"doesn't\", 'hadn', \"hadn't\", 'hasn', \"hasn't\", 'haven', \"haven't\", 'isn', \"isn't\", 'ma', 'mightn', \"mightn't\", 'mustn', \"mustn't\", 'needn', \"needn't\", 'shan', \"shan't\", 'shouldn', \"shouldn't\", 'wasn', \"wasn't\", 'weren', \"weren't\", 'won', \"won't\", 'wouldn', \"wouldn't\", 'film', 'movie', 'like', 'rrb', 'lrb', 'story', 'does', 'good', 'just', 'comedy', 'time', 'characters', 'funny', 'director', 'little', 'way', 'make', 'life', 'work', 'makes', 'love', 'bad', 'best', 'movies', 'new', 'all', 'since', 'six', 'hereafter', 'our', 'become', 'done', 'is', 'than', 'such', 'for', 'thru', 'co', 'hereby', 'amongst', 'sometime', 'nowhere', 'wherever', 'whither', 'the', 'are', 'thin', 'were', 'ten', 'down', 'eight', 'see', 'beforehand', 'whom', 'across', 'might', 'after', 'during', 'out', 'those', 'and', 'hundred', 'eleven', 'you', 'otherwise', 'or', 'formerly', 'nothing', 'already', 'empty', 'to', 'they', 'i', 'upon', 'de', 'thereafter', 'towards', 'call', 'why', 'couldnt', 'five', 'has', 'detail', 'often', 'cant', 'from', 'but', 'mine', 'afterwards', 'due', 'though', 'nevertheless', 'thus', 'she', 'well', 'what', 'around', 'every', 'who', 'give', 'with', 'amount', 'anyway', 'hers', 'whether', 'twenty', 'get', 'still', 'less', 'everywhere', 'between', 'via', 'it', 'whenever', 'their', 'ltd', 'ie', 'amoungst', 'eg', 'please', 'noone', 'somehow', 'hasnt', 'as', 'ourselves', 'anyhow', 'except', 'further', 'seem', 'where', 'within', 'both', 'something', 'always', 'my', 'whole', 'yourself', 'per', 'becomes', 'found', 'mill', 'none', 'cannot', 'me', 'fifty', 'part', 'whereas', 'thence', 'front', 'twelve', 'an', 'too', 'rather', 'should', 'take', 'name', 'if', 'sincere', 'only', 'own', 'being', 'yourselves', 'describe', 'etc', 'do', 'cry', 'namely', 'myself', 'nobody', 'con', 'how', 'mostly', 'top', 'your', 'everything', 'we', 'most', 'her', 'without', 'last', 'serious', 'full', 'herein', 'side', 'whatever', 'below', 'a', 'yet', 'system', 'put', 'thereupon', 'first', 'interest', 'over', 'at', 'inc', 'ours', 'so', 'must', 'about', 'throughout', 'up', 'because', 'us', 'much', 'wherein', 'fill', 'besides', 'became', 'perhaps', 'into', 'himself', 'along', 'in', 'now', 'somewhere', 'behind', 'then', 'am', 'even', 'that', 'under', 'nor', 'next', 'four', 'moreover', 'nine', 'whence', 'among', 'ever', 'his', 'although', 'move', 'also', 'there', 'again', 'could', 'have', 'same', 'toward', 'anywhere', 'of', 'meanwhile', 'hence', 'everyone', 'made', 'been', 'sixty', 'any', 'two', 'indeed', 'fifteen', 'here', 'becoming', 'never', 'beyond', 'forty', 'off', 'these', 'whereby', 'before', 'when', 'latter', 'by', 'enough', 'third', 'find', 'alone', 'bottom', 'almost', 'whereupon', 'least', 'anything', 'bill', 'go', 'more', 'while', 'few', 'several', 'together', 'would', 'either', 'be', 'former', 'onto', 'which', 'sometimes', 'very', 'whoever', 'its', 'until', 'else', 'three', 'whereafter', 'he', 'many', 'seems', 'him', 're', 'some', 'yours', 'not', 'show', 'thick', 'anyone', 'however', 'on', 'elsewhere', 'this', 'against', 'latterly', 'hereupon', 'another', 'someone', 'may', 'others', 'seemed', 'no', 'therefore', 'thereby', 'herself', 'had', 'one', 'keep', 'beside', 'each', 'once', 'other', 'un', 'through', 'whose', 'themselves', 'fire', 'therein', 'seeming', 'back', 'was', 'neither', 'itself', 'them', 'above', 'will', 'can'], 'knn__n_neighbors': 9, 'knn__p': 1} \n",
      "\n",
      "Classification Report: \n",
      "              precision    recall  f1-score   support\n",
      "\n",
      "           0       0.12      0.20      0.15       126\n",
      "           1       0.55      0.29      0.38       823\n",
      "           2       0.16      0.20      0.18       257\n",
      "           3       0.26      0.33      0.29       364\n",
      "           4       0.18      0.33      0.23       136\n",
      "\n",
      "    accuracy                           0.28      1706\n",
      "   macro avg       0.25      0.27      0.24      1706\n",
      "weighted avg       0.37      0.28      0.30      1706\n",
      "\n"
     ]
    }
   ],
   "source": [
    "gridsearch_outcome(gs2)"
   ]
  },
  {
   "cell_type": "code",
   "execution_count": 54,
   "id": "9ed6ef0c-25e4-4c03-b238-cd79c9f01384",
   "metadata": {},
   "outputs": [
    {
     "data": {
      "text/plain": [
       "(0.40568664810200794, 0.28311840562719814)"
      ]
     },
     "execution_count": 54,
     "metadata": {},
     "output_type": "execute_result"
    }
   ],
   "source": [
    "gs2.score(X_train, y_train), gs2.score(X_test, y_test)"
   ]
  },
  {
   "cell_type": "code",
   "execution_count": 55,
   "id": "ada14635-0f99-4d9d-b438-b499ca2bbbad",
   "metadata": {},
   "outputs": [
    {
     "data": {
      "image/png": "[encoded data removed]",
      "text/plain": [
       "<Figure size 432x288 with 2 Axes>"
      ]
     },
     "metadata": {
      "needs_background": "light"
     },
     "output_type": "display_data"
    }
   ],
   "source": [
    "ConfusionMatrixDisplay.from_estimator(gs2, X_test, y_test)\n",
    "\n",
    "plt.show()"
   ]
  },
  {
   "cell_type": "code",
   "execution_count": null,
   "id": "4cf2ecfc-01bf-438e-811f-a9c45d420c47",
   "metadata": {},
   "outputs": [],
   "source": []
  },
  {
   "cell_type": "markdown",
   "id": "7e91ce1c-7eb2-49ba-9828-a00f7a4501b6",
   "metadata": {},
   "source": [
    "**with TF-IDFVectorizer** "
   ]
  },
  {
   "cell_type": "code",
   "execution_count": 56,
   "id": "9deebb96-1f8d-409a-a529-aaa3afa44089",
   "metadata": {},
   "outputs": [],
   "source": [
    "pipe3 = Pipeline([\n",
    "    ('tvec', TfidfVectorizer()),\n",
    "    ('nb', MultinomialNB()),\n",
    "                ])"
   ]
  },
  {
   "cell_type": "code",
   "execution_count": 57,
   "id": "f2aa1613-b8e0-40ca-bf5a-051c1ab84166",
   "metadata": {},
   "outputs": [],
   "source": [
    "tvec_pipe3_params = {'tvec__stop_words': ['english', cust_stop_words],\n",
    "                     'tvec__max_features': [None, 250, 500], \n",
    "                     'tvec__min_df': [1, 2, 3], \n",
    "                     'tvec__max_df': [1.0, .98, .95],\n",
    "                     'tvec__ngram_range': [(1, 1), (1, 2)],\n",
    "                     }"
   ]
  },
  {
   "cell_type": "code",
   "execution_count": 58,
   "id": "df86f5ca-f877-4deb-9991-b21754bb908a",
   "metadata": {},
   "outputs": [],
   "source": [
    "#Instantiating GridSearchCV:\n",
    "gs3 = GridSearchCV(pipe3,\n",
    "                   param_grid = tvec_pipe3_params,\n",
    "                   cv = 5)"
   ]
  },
  {
   "cell_type": "code",
   "execution_count": 59,
   "id": "49bf8643-a278-4db1-b740-7d97156af9d1",
   "metadata": {},
   "outputs": [
    {
     "data": {
      "text/plain": [
       "GridSearchCV(cv=5,\n",
       "             estimator=Pipeline(steps=[('tvec', TfidfVectorizer()),\n",
       "                                       ('nb', MultinomialNB())]),\n",
       "             param_grid={'tvec__max_df': [1.0, 0.98, 0.95],\n",
       "                         'tvec__max_features': [None, 250, 500],\n",
       "                         'tvec__min_df': [1, 2, 3],\n",
       "                         'tvec__ngram_range': [(1, 1), (1, 2)],\n",
       "                         'tvec__stop_words': ['english',\n",
       "                                              ['i', 'me', 'my', 'myself', 'we',\n",
       "                                               'our', 'ours', 'ourselves',\n",
       "                                               'you', \"you're\", \"you've\",\n",
       "                                               \"you'll\", \"you'd\", 'your',\n",
       "                                               'yours', 'yourself',\n",
       "                                               'yourselves', 'he', 'him', 'his',\n",
       "                                               'himself', 'she', \"she's\", 'her',\n",
       "                                               'hers', 'herself', 'it', \"it's\",\n",
       "                                               'its', 'itself', ...]]})"
      ]
     },
     "execution_count": 59,
     "metadata": {},
     "output_type": "execute_result"
    }
   ],
   "source": [
    "# Fit GridSearch to training data.\n",
    "gs3.fit(X_train, y_train)"
   ]
  },
  {
   "cell_type": "code",
   "execution_count": 60,
   "id": "b0cb506b-1be5-4e77-95b4-f414ad2415ee",
   "metadata": {},
   "outputs": [
    {
     "name": "stdout",
     "output_type": "stream",
     "text": [
      "Best Score: 0.3800375968117904 \n",
      "\n",
      "Best Params: {'tvec__max_df': 1.0, 'tvec__max_features': None, 'tvec__min_df': 2, 'tvec__ngram_range': (1, 1), 'tvec__stop_words': 'english'} \n",
      "\n",
      "Classification Report: \n",
      "              precision    recall  f1-score   support\n",
      "\n",
      "           0       0.03      0.50      0.05        12\n",
      "           1       0.59      0.38      0.46       684\n",
      "           2       0.09      0.31      0.14        94\n",
      "           3       0.73      0.39      0.50       872\n",
      "           4       0.11      0.61      0.18        44\n",
      "\n",
      "    accuracy                           0.39      1706\n",
      "   macro avg       0.31      0.44      0.27      1706\n",
      "weighted avg       0.62      0.39      0.46      1706\n",
      "\n"
     ]
    }
   ],
   "source": [
    "gridsearch_outcome(gs3)"
   ]
  },
  {
   "cell_type": "code",
   "execution_count": 61,
   "id": "ffa38270-0e74-4379-b970-ce00bc98b2d1",
   "metadata": {},
   "outputs": [
    {
     "data": {
      "text/plain": [
       "(0.6627583174556647, 0.38686987104337633)"
      ]
     },
     "execution_count": 61,
     "metadata": {},
     "output_type": "execute_result"
    }
   ],
   "source": [
    "gs3.score(X_train, y_train), gs3.score(X_test, y_test)"
   ]
  },
  {
   "cell_type": "code",
   "execution_count": 62,
   "id": "657ab41e-5d00-4d14-a248-95afe97efdba",
   "metadata": {},
   "outputs": [
    {
     "data": {
      "image/png": "[encoded data removed]",
      "text/plain": [
       "<Figure size 432x288 with 2 Axes>"
      ]
     },
     "metadata": {
      "needs_background": "light"
     },
     "output_type": "display_data"
    }
   ],
   "source": [
    "ConfusionMatrixDisplay.from_estimator(gs3, X_test, y_test)\n",
    "\n",
    "plt.show()"
   ]
  },
  {
   "cell_type": "code",
   "execution_count": 67,
   "id": "922e8cfe-793a-43e8-a9d9-ae4755df5818",
   "metadata": {},
   "outputs": [],
   "source": [
    "pipe4 = Pipeline([\n",
    "    ('tvec', TfidfVectorizer()),\n",
    "    ('LogReg', LogisticRegression(max_iter = 10_000)),\n",
    "                ])"
   ]
  },
  {
   "cell_type": "code",
   "execution_count": 68,
   "id": "8e5154da-ac11-456b-a68e-7b9bb00f9c1e",
   "metadata": {},
   "outputs": [],
   "source": [
    "#Instantiating GridSearchCV:\n",
    "gs4 = GridSearchCV(pipe4,\n",
    "                   param_grid = tvec_pipe3_params,\n",
    "                   cv = 5)"
   ]
  },
  {
   "cell_type": "code",
   "execution_count": 69,
   "id": "543f91d0-e21b-48a2-b8d4-37532f508f55",
   "metadata": {},
   "outputs": [
    {
     "data": {
      "text/plain": [
       "GridSearchCV(cv=5,\n",
       "             estimator=Pipeline(steps=[('tvec', TfidfVectorizer()),\n",
       "                                       ('LogReg',\n",
       "                                        LogisticRegression(max_iter=10000))]),\n",
       "             param_grid={'tvec__max_df': [1.0, 0.98, 0.95],\n",
       "                         'tvec__max_features': [None, 250, 500],\n",
       "                         'tvec__min_df': [1, 2, 3],\n",
       "                         'tvec__ngram_range': [(1, 1), (1, 2)],\n",
       "                         'tvec__stop_words': ['english',\n",
       "                                              ['i', 'me', 'my', 'myself', 'we',\n",
       "                                               'our', 'ours', 'ourselves',\n",
       "                                               'you', \"you're\", \"you've\",\n",
       "                                               \"you'll\", \"you'd\", 'your',\n",
       "                                               'yours', 'yourself',\n",
       "                                               'yourselves', 'he', 'him', 'his',\n",
       "                                               'himself', 'she', \"she's\", 'her',\n",
       "                                               'hers', 'herself', 'it', \"it's\",\n",
       "                                               'its', 'itself', ...]]})"
      ]
     },
     "execution_count": 69,
     "metadata": {},
     "output_type": "execute_result"
    }
   ],
   "source": [
    "# Fit GridSearch to training data.\n",
    "gs4.fit(X_train, y_train)"
   ]
  },
  {
   "cell_type": "code",
   "execution_count": 70,
   "id": "e01ff5ec-a615-492f-8c41-f3f5829998c5",
   "metadata": {},
   "outputs": [
    {
     "name": "stdout",
     "output_type": "stream",
     "text": [
      "Best Score: 0.38047984273790725 \n",
      "\n",
      "Best Params: {'tvec__max_df': 1.0, 'tvec__max_features': None, 'tvec__min_df': 3, 'tvec__ngram_range': (1, 2), 'tvec__stop_words': 'english'} \n",
      "\n",
      "Classification Report: \n",
      "              precision    recall  f1-score   support\n",
      "\n",
      "           0       0.14      0.44      0.22        71\n",
      "           1       0.51      0.37      0.42       610\n",
      "           2       0.20      0.30      0.24       215\n",
      "           3       0.58      0.40      0.47       676\n",
      "           4       0.25      0.48      0.33       134\n",
      "\n",
      "    accuracy                           0.38      1706\n",
      "   macro avg       0.33      0.40      0.34      1706\n",
      "weighted avg       0.46      0.38      0.40      1706\n",
      "\n"
     ]
    }
   ],
   "source": [
    "gridsearch_outcome(gs4)"
   ]
  },
  {
   "cell_type": "code",
   "execution_count": null,
   "id": "4a4c9495-39a7-4193-95fc-18dc8803533e",
   "metadata": {},
   "outputs": [],
   "source": []
  },
  {
   "cell_type": "code",
   "execution_count": null,
   "id": "e5862c19-84cb-484c-be29-5c983ef83764",
   "metadata": {},
   "outputs": [],
   "source": []
  },
  {
   "cell_type": "code",
   "execution_count": null,
   "id": "0c80484d-b674-4c15-8ea1-006d9406d9c5",
   "metadata": {},
   "outputs": [],
   "source": []
  },
  {
   "cell_type": "code",
   "execution_count": null,
   "id": "16b1e8e3-87a1-45f8-9513-08ed594e2425",
   "metadata": {},
   "outputs": [],
   "source": [
    "#BREAK BREAK BREAK\n",
    "#BREAK BREAK BREAK\n",
    "#BREAK BREAK BREAK\n",
    "#BREAK BREAK BREAK\n",
    "#BREAK BREAK BREAK "
   ]
  },
  {
   "cell_type": "code",
   "execution_count": null,
   "id": "a11bafa7-97a7-47bd-a94f-3e54da49a079",
   "metadata": {},
   "outputs": [],
   "source": []
  },
  {
   "cell_type": "code",
   "execution_count": 27,
   "id": "e52883e3-4be1-4dd4-9dd5-680558508b38",
   "metadata": {},
   "outputs": [],
   "source": [
    "#generating predictions:\n",
    "preds_0 = cvec_logreg_pipe.predict(X_test)"
   ]
  },
  {
   "cell_type": "code",
   "execution_count": 28,
   "id": "0c7afab9-237a-4a12-965c-7a148aa0d9fe",
   "metadata": {},
   "outputs": [
    {
     "name": "stdout",
     "output_type": "stream",
     "text": [
      "              precision    recall  f1-score   support\n",
      "\n",
      "           0       0.19      0.51      0.27       514\n",
      "           1       0.25      0.50      0.34      2789\n",
      "           2       0.89      0.64      0.74     22184\n",
      "           3       0.39      0.52      0.45      4907\n",
      "           4       0.25      0.56      0.34       818\n",
      "\n",
      "    accuracy                           0.60     31212\n",
      "   macro avg       0.39      0.55      0.43     31212\n",
      "weighted avg       0.73      0.60      0.64     31212\n",
      "\n"
     ]
    }
   ],
   "source": [
    "#printing classification report:\n",
    "print(classification_report(preds_0, y_test))"
   ]
  },
  {
   "cell_type": "code",
   "execution_count": 29,
   "id": "c5c4c4a0-3558-45d4-a070-3f1fd99c8aa5",
   "metadata": {},
   "outputs": [
    {
     "data": {
      "text/plain": [
       "<Figure size 576x576 with 0 Axes>"
      ]
     },
     "metadata": {},
     "output_type": "display_data"
    },
    {
     "data": {
      "image/png": "[encoded data removed]",
      "text/plain": [
       "<Figure size 432x288 with 2 Axes>"
      ]
     },
     "metadata": {
      "needs_background": "light"
     },
     "output_type": "display_data"
    }
   ],
   "source": [
    "#plotting confusion matrix:\n",
    "plt.figure(figsize = (8, 8));\n",
    "\n",
    "plot_confusion_matrix(cvec_logreg_pipe, \n",
    "                      X_test, y_test, \n",
    "                      cmap = 'viridis', \n",
    "                      values_format = 'd');"
   ]
  },
  {
   "cell_type": "markdown",
   "id": "b3f29629-2efb-44bd-a615-f6486eddbb05",
   "metadata": {},
   "source": [
    "- Exploring n-grams:"
   ]
  },
  {
   "cell_type": "code",
   "execution_count": 53,
   "id": "10001029-b831-48df-9051-fec0bd9ac6da",
   "metadata": {},
   "outputs": [],
   "source": [
    "cvec = CountVectorizer(analyzer = 'word',                        \n",
    "                       stop_words = stop_words, \n",
    "                       max_features = None,\n",
    "                       ngram_range = (2,3))\n",
    "\n",
    "lr = LogisticRegression(max_iter = 10_000)"
   ]
  },
  {
   "cell_type": "code",
   "execution_count": 54,
   "id": "13588675-348b-45a3-ad7c-76476e7ef83a",
   "metadata": {},
   "outputs": [
    {
     "data": {
      "text/plain": [
       "(0.9827055547413162, 0.28077373974208675)"
      ]
     },
     "execution_count": 54,
     "metadata": {},
     "output_type": "execute_result"
    }
   ],
   "source": [
    "#pipeline for cvec with lr, searching bi-grams and tri-grams\n",
    "cvec_logreg_pipe = Pipeline([('cvec', cvec),\n",
    "                             ('logreg', lr)])\n",
    "\n",
    "cvec_logreg_pipe.fit(X_train, y_train)\n",
    "cvec_logreg_pipe.score(X_train, y_train), cvec_logreg_pipe.score(X_test, y_test)"
   ]
  },
  {
   "cell_type": "code",
   "execution_count": 32,
   "id": "90a20abc-3911-4ddc-9f0a-b3766c4709da",
   "metadata": {},
   "outputs": [],
   "source": [
    "#generating predictions:\n",
    "preds_1 = cvec_logreg_pipe.predict(X_test)"
   ]
  },
  {
   "cell_type": "code",
   "execution_count": 33,
   "id": "18ae0985-d92e-468d-993e-d6cf3e28c957",
   "metadata": {},
   "outputs": [
    {
     "name": "stdout",
     "output_type": "stream",
     "text": [
      "              precision    recall  f1-score   support\n",
      "\n",
      "           0       0.29      0.52      0.37       791\n",
      "           1       0.35      0.57      0.43      3392\n",
      "           2       0.89      0.65      0.75     21806\n",
      "           3       0.38      0.59      0.46      4241\n",
      "           4       0.30      0.57      0.39       982\n",
      "\n",
      "    accuracy                           0.62     31212\n",
      "   macro avg       0.44      0.58      0.48     31212\n",
      "weighted avg       0.73      0.62      0.65     31212\n",
      "\n"
     ]
    }
   ],
   "source": [
    "#printing classification report:\n",
    "print(classification_report(preds_1, y_test))"
   ]
  },
  {
   "cell_type": "code",
   "execution_count": 34,
   "id": "4c279a4e-2bcd-4c5c-880d-16ae8b193bdb",
   "metadata": {},
   "outputs": [
    {
     "data": {
      "text/plain": [
       "<Figure size 576x576 with 0 Axes>"
      ]
     },
     "metadata": {},
     "output_type": "display_data"
    },
    {
     "data": {
      "image/png": "[encoded data removed]",
      "text/plain": [
       "<Figure size 432x288 with 2 Axes>"
      ]
     },
     "metadata": {
      "needs_background": "light"
     },
     "output_type": "display_data"
    }
   ],
   "source": [
    "#plotting confusion matrix:\n",
    "plt.figure(figsize = (8, 8));\n",
    "plot_confusion_matrix(cvec_logreg_pipe, \n",
    "                      X_test, y_test, \n",
    "                      cmap = 'viridis', \n",
    "                      values_format = 'd');"
   ]
  },
  {
   "cell_type": "markdown",
   "id": "4a2045a9-ac21-4a87-b857-616966d21ffa",
   "metadata": {},
   "source": [
    "2. CountVectorizer with MultinomialNB"
   ]
  },
  {
   "cell_type": "code",
   "execution_count": 51,
   "id": "d06fed0e-d2a9-4de9-b057-93285624ab10",
   "metadata": {},
   "outputs": [],
   "source": [
    "#re-instatiating cvec, instantiating MultinomialNB\n",
    "cvec = CountVectorizer(analyzer = 'word',                        \n",
    "                       stop_words = stop_words, \n",
    "                       max_features = 2000)\n",
    "nb = MultinomialNB()"
   ]
  },
  {
   "cell_type": "code",
   "execution_count": 52,
   "id": "6f87cda2-9cb3-4a2b-b425-845c045d12f0",
   "metadata": {},
   "outputs": [
    {
     "data": {
      "text/plain": [
       "(0.6265572328887586, 0.365767878077374)"
      ]
     },
     "execution_count": 52,
     "metadata": {},
     "output_type": "execute_result"
    }
   ],
   "source": [
    "#pipeline for cvec with nb:\n",
    "cvec_nb_pipe = Pipeline([('cvec', cvec), \n",
    "                        ('nb', nb)])\n",
    "\n",
    "cvec_nb_pipe.fit(X_train, y_train)\n",
    "cvec_nb_pipe.score(X_train, y_train), cvec_nb_pipe.score(X_test, y_test)"
   ]
  },
  {
   "cell_type": "code",
   "execution_count": 37,
   "id": "3d5a7877-8513-4978-ac1d-28d30c54229d",
   "metadata": {},
   "outputs": [],
   "source": [
    "#generating predictions:\n",
    "preds_2 = cvec_nb_pipe.predict(X_test)"
   ]
  },
  {
   "cell_type": "code",
   "execution_count": 38,
   "id": "69ffdb50-1c6d-44df-8271-7aafcdf383c1",
   "metadata": {},
   "outputs": [
    {
     "name": "stdout",
     "output_type": "stream",
     "text": [
      "              precision    recall  f1-score   support\n",
      "\n",
      "           0       0.15      0.52      0.24       411\n",
      "           1       0.20      0.51      0.29      2184\n",
      "           2       0.91      0.61      0.73     23817\n",
      "           3       0.33      0.52      0.40      4178\n",
      "           4       0.19      0.56      0.28       622\n",
      "\n",
      "    accuracy                           0.59     31212\n",
      "   macro avg       0.36      0.54      0.39     31212\n",
      "weighted avg       0.76      0.59      0.64     31212\n",
      "\n"
     ]
    }
   ],
   "source": [
    "#printing classification report:\n",
    "print(classification_report(preds_2, y_test))"
   ]
  },
  {
   "cell_type": "code",
   "execution_count": 39,
   "id": "21c92b63-d515-4eab-bfb9-646649c1bfc4",
   "metadata": {},
   "outputs": [
    {
     "data": {
      "text/plain": [
       "<Figure size 576x576 with 0 Axes>"
      ]
     },
     "metadata": {},
     "output_type": "display_data"
    },
    {
     "data": {
      "image/png": "[encoded data removed]",
      "text/plain": [
       "<Figure size 432x288 with 2 Axes>"
      ]
     },
     "metadata": {
      "needs_background": "light"
     },
     "output_type": "display_data"
    }
   ],
   "source": [
    "#plotting confusion matrix:\n",
    "plt.figure(figsize = (8, 8));\n",
    "plot_confusion_matrix(cvec_nb_pipe, \n",
    "                      X_test, y_test, \n",
    "                      cmap = 'viridis', \n",
    "                      values_format = 'd');"
   ]
  },
  {
   "cell_type": "markdown",
   "id": "becbff33-154f-43a4-ae79-96bf2a305a0e",
   "metadata": {},
   "source": [
    "3. CountVectorizer with KNN"
   ]
  },
  {
   "cell_type": "code",
   "execution_count": 40,
   "id": "21e5e743-cc72-4568-a64b-b73daa460831",
   "metadata": {},
   "outputs": [],
   "source": [
    "cvec = CountVectorizer(analyzer = 'word',                        \n",
    "                       stop_words = stop_words )\n",
    "                       \n",
    "knn = KNeighborsClassifier()"
   ]
  },
  {
   "cell_type": "code",
   "execution_count": 41,
   "id": "66df22f7-b737-4447-b84b-ef8d9cd6ca7a",
   "metadata": {},
   "outputs": [
    {
     "data": {
      "text/plain": [
       "(0.7223263488401896, 0.6182878380110214)"
      ]
     },
     "execution_count": 41,
     "metadata": {},
     "output_type": "execute_result"
    }
   ],
   "source": [
    "#pipeline for cvec with knn:\n",
    "pipe_knn_cv = Pipeline([\n",
    "    ('cvec', cvec),\n",
    "    ('knn', knn)\n",
    "])\n",
    "\n",
    "pipe_knn_cv.fit(X_train, y_train)\n",
    "pipe_knn_cv.score(X_train, y_train), pipe_knn_cv.score(X_test, y_test)"
   ]
  },
  {
   "cell_type": "code",
   "execution_count": 42,
   "id": "2f6cbc57-75cf-49dd-a368-07a16ac118a5",
   "metadata": {},
   "outputs": [],
   "source": [
    "#generating predictions:\n",
    "preds_knn = pipe_knn_cv.predict(X_test)"
   ]
  },
  {
   "cell_type": "code",
   "execution_count": 43,
   "id": "0b2d9c52-9875-4d3b-89f1-4792f27bc935",
   "metadata": {},
   "outputs": [
    {
     "name": "stdout",
     "output_type": "stream",
     "text": [
      "              precision    recall  f1-score   support\n",
      "\n",
      "           0       0.33      0.48      0.39       966\n",
      "           1       0.39      0.53      0.45      4009\n",
      "           2       0.87      0.65      0.74     21143\n",
      "           3       0.38      0.57      0.45      4353\n",
      "           4       0.24      0.60      0.34       741\n",
      "\n",
      "    accuracy                           0.62     31212\n",
      "   macro avg       0.44      0.57      0.48     31212\n",
      "weighted avg       0.71      0.62      0.65     31212\n",
      "\n"
     ]
    }
   ],
   "source": [
    "#printing classification report:\n",
    "print(classification_report(preds_knn, y_test))"
   ]
  },
  {
   "cell_type": "code",
   "execution_count": 44,
   "id": "df54091c-3f7a-478c-90a1-9a3300a4e803",
   "metadata": {},
   "outputs": [
    {
     "data": {
      "text/plain": [
       "<Figure size 576x576 with 0 Axes>"
      ]
     },
     "metadata": {},
     "output_type": "display_data"
    },
    {
     "data": {
      "image/png": "[encoded data removed]",
      "text/plain": [
       "<Figure size 432x288 with 2 Axes>"
      ]
     },
     "metadata": {
      "needs_background": "light"
     },
     "output_type": "display_data"
    }
   ],
   "source": [
    "#plotting confusion matrix:\n",
    "plt.figure(figsize = (8, 8));\n",
    "plot_confusion_matrix(cvec_nb_pipe, \n",
    "                      X_test, y_test, \n",
    "                      cmap = 'viridis', \n",
    "                      values_format = 'd');"
   ]
  },
  {
   "cell_type": "markdown",
   "id": "546369bd-ad44-4f1e-acaa-066b4cece5a1",
   "metadata": {},
   "source": [
    "4. TF-IDF with LogReg"
   ]
  },
  {
   "cell_type": "code",
   "execution_count": 45,
   "id": "caa31f26-1fee-4476-805a-cfdb7195b72b",
   "metadata": {},
   "outputs": [],
   "source": [
    "#starting modeling with CountVectorizer to vectorizer 'body'\n",
    "tvec = TfidfVectorizer(analyzer = 'word',                        \n",
    "                       stop_words = stop_words, \n",
    "                       max_features = 3000)"
   ]
  },
  {
   "cell_type": "code",
   "execution_count": 46,
   "id": "fbabe2a9-219b-410d-a00c-97d5a35ebc22",
   "metadata": {},
   "outputs": [
    {
     "data": {
      "text/plain": [
       "(0.6333701781366141, 0.6099256696142509)"
      ]
     },
     "execution_count": 46,
     "metadata": {},
     "output_type": "execute_result"
    }
   ],
   "source": [
    "#pipeline for tvec with lr:\n",
    "tvec_lr_pipe = Pipeline([\n",
    "    ('tvec', tvec),\n",
    "    ('logreg', lr)])\n",
    "\n",
    "tvec_lr_pipe.fit(X_train, y_train)\n",
    "tvec_lr_pipe.score(X_train, y_train), tvec_lr_pipe.score(X_test, y_test)"
   ]
  },
  {
   "cell_type": "markdown",
   "id": "c59211cc-6aeb-408e-82c6-9396cee61620",
   "metadata": {},
   "source": [
    "Running the Pipeline with different 'max_features' - Accuracy(train, test):\n",
    "* none  -   (0.6822696398820967, 0.6323529411764706)\n",
    "* 500   -   (0.5672097270280662, 0.5618031526336025)\n",
    "* 1000  -   (0.588876073305139, 0.5803537101114956)\n",
    "* 2000  -   (0.6186562860438293, 0.5986479559143919)\n",
    "* 3000  -   (0.6333701781366141, 0.6099256696142509)"
   ]
  },
  {
   "cell_type": "code",
   "execution_count": 47,
   "id": "36cb3613-d6ea-4ccf-8fd0-9bc72106c7f8",
   "metadata": {},
   "outputs": [],
   "source": [
    "#generating predictions:\n",
    "preds_3 = tvec_lr_pipe.predict(X_test)"
   ]
  },
  {
   "cell_type": "code",
   "execution_count": 48,
   "id": "eb536d89-e9cc-447f-8ed7-5048bd85dd51",
   "metadata": {},
   "outputs": [
    {
     "name": "stdout",
     "output_type": "stream",
     "text": [
      "              precision    recall  f1-score   support\n",
      "\n",
      "           0       0.17      0.56      0.26       432\n",
      "           1       0.29      0.50      0.37      3112\n",
      "           2       0.88      0.65      0.75     21574\n",
      "           3       0.43      0.52      0.47      5408\n",
      "           4       0.22      0.58      0.31       686\n",
      "\n",
      "    accuracy                           0.61     31212\n",
      "   macro avg       0.40      0.56      0.43     31212\n",
      "weighted avg       0.72      0.61      0.65     31212\n",
      "\n"
     ]
    }
   ],
   "source": [
    "#printing classification report:\n",
    "print(classification_report(preds_3, y_test))"
   ]
  },
  {
   "cell_type": "code",
   "execution_count": 49,
   "id": "3a3aa18c-4571-410f-bc1f-94c95d729c58",
   "metadata": {},
   "outputs": [
    {
     "data": {
      "text/plain": [
       "<Figure size 576x576 with 0 Axes>"
      ]
     },
     "metadata": {},
     "output_type": "display_data"
    },
    {
     "data": {
      "image/png": "[encoded data removed]",
      "text/plain": [
       "<Figure size 432x288 with 2 Axes>"
      ]
     },
     "metadata": {
      "needs_background": "light"
     },
     "output_type": "display_data"
    }
   ],
   "source": [
    "#plotting confusion matrix:\n",
    "plt.figure(figsize = (8, 8));\n",
    "plot_confusion_matrix(tvec_lr_pipe, \n",
    "                      X_test, y_test, \n",
    "                      cmap = 'viridis', \n",
    "                      values_format = 'd');"
   ]
  },
  {
   "cell_type": "markdown",
   "id": "e64a640f-c5f2-4361-92f5-c166cffaa100",
   "metadata": {},
   "source": [
    "5. TF-IDF with MultinomialNB"
   ]
  },
  {
   "cell_type": "code",
   "execution_count": 50,
   "id": "6b333c74-33bf-46c8-9e5a-7eccb04e3514",
   "metadata": {},
   "outputs": [
    {
     "data": {
      "text/plain": [
       "(0.6705674099705241, 0.609765474817378)"
      ]
     },
     "execution_count": 50,
     "metadata": {},
     "output_type": "execute_result"
    }
   ],
   "source": [
    "#pipeline for tvec with nb:\n",
    "tvec_nb_pipe = Pipeline([('tvec', cvec), \n",
    "                        ('nb', nb)])\n",
    "\n",
    "tvec_nb_pipe.fit(X_train, y_train)\n",
    "tvec_nb_pipe.score(X_train, y_train), tvec_nb_pipe.score(X_test, y_test)"
   ]
  },
  {
   "cell_type": "code",
   "execution_count": 20,
   "id": "675f0d55-8cd0-403f-b284-58589d0a740a",
   "metadata": {},
   "outputs": [],
   "source": [
    "#generating predictions:\n",
    "preds_4 = tvec_nb_pipe.predict(X_test)"
   ]
  },
  {
   "cell_type": "code",
   "execution_count": 52,
   "id": "69fdfe2e-2b6b-4077-a03d-80450e7342e0",
   "metadata": {},
   "outputs": [
    {
     "name": "stdout",
     "output_type": "stream",
     "text": [
      "              precision    recall  f1-score   support\n",
      "\n",
      "           0       0.28      0.43      0.34       899\n",
      "           1       0.41      0.49      0.45      4469\n",
      "           2       0.79      0.69      0.73     18357\n",
      "           3       0.50      0.52      0.51      6350\n",
      "           4       0.30      0.49      0.37      1137\n",
      "\n",
      "    accuracy                           0.61     31212\n",
      "   macro avg       0.45      0.52      0.48     31212\n",
      "weighted avg       0.64      0.61      0.62     31212\n",
      "\n"
     ]
    }
   ],
   "source": [
    "#printing classification report:\n",
    "print(classification_report(preds_4, y_test))"
   ]
  },
  {
   "cell_type": "code",
   "execution_count": 53,
   "id": "53cca394-6f76-4394-b670-3f5c83d3831e",
   "metadata": {},
   "outputs": [
    {
     "data": {
      "text/plain": [
       "<Figure size 576x576 with 0 Axes>"
      ]
     },
     "metadata": {},
     "output_type": "display_data"
    },
    {
     "data": {
      "image/png": "[encoded data removed]",
      "text/plain": [
       "<Figure size 432x288 with 2 Axes>"
      ]
     },
     "metadata": {
      "needs_background": "light"
     },
     "output_type": "display_data"
    }
   ],
   "source": [
    "#plotting confusion matrix:\n",
    "plt.figure(figsize = (8, 8));\n",
    "plot_confusion_matrix(tvec_nb_pipe, \n",
    "                      X_test, y_test, \n",
    "                      cmap = 'viridis', \n",
    "                      values_format = 'd');"
   ]
  },
  {
   "cell_type": "markdown",
   "id": "111e8a81-a343-44fb-ab87-8b4b733ca547",
   "metadata": {},
   "source": [
    "6a. CountVectorizer with Support Vector Machine"
   ]
  },
  {
   "cell_type": "code",
   "execution_count": 54,
   "id": "938103f9-2f99-466a-ad1d-0b5a92627eea",
   "metadata": {},
   "outputs": [],
   "source": [
    "cvec = CountVectorizer(analyzer = 'word',                        \n",
    "                       stop_words = stop_words, \n",
    "                       max_features = 2000)                     \n",
    "svc = SVC(C = 1,\n",
    "         degree = 2, \n",
    "         kernel = 'rbf',\n",
    "         gamma = 'scale')"
   ]
  },
  {
   "cell_type": "code",
   "execution_count": 55,
   "id": "a491e4b9-e89b-4a74-abb5-b1089da8c5d4",
   "metadata": {},
   "outputs": [],
   "source": [
    "#pipe_svc = Pipeline([\n",
    "#    ('cvec', cvec),\n",
    "#    ('svc', svc)])\n",
    "\n",
    "#pipe_svc.fit(X_train, y_train)\n",
    "#pipe_svc.score(X_train, y_train), pipe_svc.score(X_test, y_test)\n",
    "#this was run on Curtis Hill's computer, he got the output for the team. "
   ]
  },
  {
   "cell_type": "code",
   "execution_count": 56,
   "id": "ede335d2-2bb3-4efd-9c5a-b6000838ddcb",
   "metadata": {},
   "outputs": [],
   "source": [
    "#output from above cell:\n",
    "#Train = 0.7176246315519672, Test = 0.6335704216327054"
   ]
  },
  {
   "cell_type": "code",
   "execution_count": null,
   "id": "de37072b-671c-4256-8743-c872c0bfa902",
   "metadata": {},
   "outputs": [],
   "source": [
    "#preds_5a = pipe_svc.predict(X_test)"
   ]
  },
  {
   "cell_type": "code",
   "execution_count": null,
   "id": "4f03e459-f6a7-4556-9733-0f33bbba4e40",
   "metadata": {},
   "outputs": [],
   "source": [
    "#print(classification_report(preds_5a, y_test))"
   ]
  },
  {
   "cell_type": "code",
   "execution_count": null,
   "id": "578788e2-485f-4530-acce-df0c61224ead",
   "metadata": {},
   "outputs": [],
   "source": [
    "#plt.figure(figsize = (8, 8));\n",
    "#plot_confusion_matrix(pipe_svc, \n",
    "#                      X_test, y_test, \n",
    "#                      cmap = 'viridis', \n",
    "#                      values_format = 'd');"
   ]
  },
  {
   "cell_type": "markdown",
   "id": "93b8046f-2857-4f43-911f-c9cc8ef1bfa2",
   "metadata": {},
   "source": [
    "6b. TF-IDF with Support Vector Machine"
   ]
  },
  {
   "cell_type": "code",
   "execution_count": 57,
   "id": "65104335-72a4-4bc7-a195-deb54337c65a",
   "metadata": {},
   "outputs": [],
   "source": [
    "tfidf = TfidfVectorizer(stop_words= stop_words, \n",
    "                             max_features= None,\n",
    "                            ngram_range= (1,1))"
   ]
  },
  {
   "cell_type": "code",
   "execution_count": 58,
   "id": "e406b16e-6b84-490e-802c-98ac6b529ea6",
   "metadata": {},
   "outputs": [],
   "source": [
    "#svc_pipe = Pipeline([\n",
    "#    ('cvec', cvec),\n",
    "#    ('svc', svc)])\n",
    "\n",
    "#svc_pipe.fit(X_train, y_train)\n",
    "#svc_pipe.score(X_train, y_train), svc_pipe.score(X_test, y_test)\n",
    "#this was run on Curtis Hill's computer, he got the output for the team. "
   ]
  },
  {
   "cell_type": "code",
   "execution_count": 59,
   "id": "1578d0fe-a429-4ea0-a39f-830f23cd5f64",
   "metadata": {},
   "outputs": [],
   "source": [
    "#output from above cell:\n",
    "#Train = 0.7743255799051647, Test = 0.6586569268230168"
   ]
  },
  {
   "cell_type": "code",
   "execution_count": null,
   "id": "2884b9ec-b957-46e2-b798-851391d5f3b6",
   "metadata": {},
   "outputs": [],
   "source": [
    "#svm_class_report = classification_report(y_test, svm_predict)\n",
    "#print(svm_class_report)"
   ]
  },
  {
   "cell_type": "code",
   "execution_count": null,
   "id": "6059d484-28fc-4a49-836d-2e6faaa5df6f",
   "metadata": {},
   "outputs": [],
   "source": [
    "#plt.figure(figsize = (8, 8));\n",
    "#plot_confusion_matrix(svc_pipe, \n",
    "#                      X_test, y_test, \n",
    "#                      cmap = 'viridis', \n",
    "#                      values_format = 'd');"
   ]
  },
  {
   "cell_type": "code",
   "execution_count": 84,
   "id": "21a6b1c1-a87a-454a-8f2e-20d096e71180",
   "metadata": {},
   "outputs": [],
   "source": [
    "#Again, the SVM was run on Curtis Hill's computer, he got the output for the team. "
   ]
  },
  {
   "cell_type": "markdown",
   "id": "a647c8e1-ab5e-4a78-aaba-b45c32a74275",
   "metadata": {},
   "source": [
    "- TF-IDF has performed the best on our testing data so far. "
   ]
  },
  {
   "cell_type": "markdown",
   "id": "862022e7-e97c-4872-b146-03cd3f310889",
   "metadata": {},
   "source": [
    "**GridSearching**"
   ]
  },
  {
   "cell_type": "code",
   "execution_count": 60,
   "id": "f1195189-be08-49cc-9f6c-332aece3a3e6",
   "metadata": {},
   "outputs": [],
   "source": [
    "pipe_params = {\n",
    "    'cvec__max_features': [None, 500, 1_000, 1_500, 2_000, 2_500, 3_000], \n",
    "    'cvec__min_df': [1, 2, 3], \n",
    "    'cvec__max_df': [1.0, .75, .85, .95],\n",
    "    'cvec__ngram_range': [(1, 1), (1, 2), (1,3), (2,3)]\n",
    "}"
   ]
  },
  {
   "cell_type": "code",
   "execution_count": 61,
   "id": "01c61f6d-410f-4fb0-8b17-677ee2991540",
   "metadata": {},
   "outputs": [],
   "source": [
    "#instantiating GridSearchCV.\n",
    "gs_cvec = GridSearchCV(cvec_nb_pipe, \n",
    "                  param_grid = pipe_params, \n",
    "                  cv = 5, \n",
    "                  verbose = 1)"
   ]
  },
  {
   "cell_type": "code",
   "execution_count": 62,
   "id": "d4c51387-d116-47f4-a7cf-1aeb591bad86",
   "metadata": {},
   "outputs": [],
   "source": [
    "#Fiting GridSearch to training data:\n",
    "#gs_cvec.fit(X_train, y_train)\n",
    "#gs_cvec.best_params_\n",
    "\n",
    "#Did not have time to run GridSearch"
   ]
  },
  {
   "cell_type": "markdown",
   "id": "0519b492-579b-449f-bf84-70291b36f71c",
   "metadata": {},
   "source": [
    "**Model Evalution**"
   ]
  },
  {
   "cell_type": "code",
   "execution_count": 63,
   "id": "1b8c7969-5c18-49ff-96aa-77e68a4b159b",
   "metadata": {},
   "outputs": [],
   "source": [
    "#re-initializing:\n",
    "cvec = CountVectorizer(analyzer = 'word',                        \n",
    "                       stop_words = stop_words, \n",
    "                       max_features = 2000)\n",
    "lr = LogisticRegression(max_iter = 10_000)"
   ]
  },
  {
   "cell_type": "code",
   "execution_count": 64,
   "id": "08f0e649-46e7-4e86-a9e2-9d83c388a0d1",
   "metadata": {},
   "outputs": [
    {
     "data": {
      "text/plain": [
       "Pipeline(steps=[('cvec',\n",
       "                 CountVectorizer(max_features=2000,\n",
       "                                 stop_words=frozenset({'a', 'about', 'above',\n",
       "                                                       'across', 'after',\n",
       "                                                       'afterwards', 'again',\n",
       "                                                       'against', 'all',\n",
       "                                                       'almost', 'alone',\n",
       "                                                       'along', 'already',\n",
       "                                                       'also', 'although',\n",
       "                                                       'always', 'am', 'among',\n",
       "                                                       'amongst', 'amoungst',\n",
       "                                                       'amount', 'an', 'and',\n",
       "                                                       'another', 'any',\n",
       "                                                       'anyhow', 'anyone',\n",
       "                                                       'anything', 'anyway',\n",
       "                                                       'anywhere', ...}))),\n",
       "                ('logreg', LogisticRegression(max_iter=10000))])"
      ]
     },
     "execution_count": 64,
     "metadata": {},
     "output_type": "execute_result"
    }
   ],
   "source": [
    "#re-initializing:\n",
    "cvec_logreg_pipe = Pipeline([('cvec', cvec),\n",
    "               ('logreg', lr),\n",
    "              ])\n",
    "cvec_logreg_pipe.fit(X_train, y_train)"
   ]
  },
  {
   "cell_type": "code",
   "execution_count": 65,
   "id": "d7c0d3bb-83fd-490e-aeb6-547b3b64b628",
   "metadata": {},
   "outputs": [],
   "source": [
    "#generating predictions for testing data from cvec, lr pipeline:\n",
    "df_test['preds'] = cvec_logreg_pipe.predict(df_test['Phrase'])"
   ]
  },
  {
   "cell_type": "code",
   "execution_count": 74,
   "id": "f7ac0f3b-e54c-441c-baae-6c332cb87865",
   "metadata": {},
   "outputs": [
    {
     "data": {
      "text/plain": [
       "2    48575\n",
       "3     9857\n",
       "1     5188\n",
       "4     1646\n",
       "0     1026\n",
       "Name: preds, dtype: int64"
      ]
     },
     "execution_count": 74,
     "metadata": {},
     "output_type": "execute_result"
    }
   ],
   "source": [
    "#looking at value_counts for testing predictions:\n",
    "df_test['preds'].value_counts()"
   ]
  },
  {
   "cell_type": "code",
   "execution_count": 67,
   "id": "8680b512-2a9a-49db-afb6-c339cb31006e",
   "metadata": {},
   "outputs": [],
   "source": [
    "#Predictions for test data set using the pipeline with Support Vector Machines and Tfidf Vectorizer\n",
    "#test['predictions'] = pipe_svc_2.predict(test['Phrase'])\n",
    "\n",
    "#test['predictions'].value_counts()\n",
    "#From Curtis Hill"
   ]
  }
 ],
 "metadata": {
  "kernelspec": {
   "display_name": "Python 3",
   "language": "python",
   "name": "python3"
  },
  "language_info": {
   "codemirror_mode": {
    "name": "ipython",
    "version": 3
   },
   "file_extension": ".py",
   "mimetype": "text/x-python",
   "name": "python",
   "nbconvert_exporter": "python",
   "pygments_lexer": "ipython3",
   "version": "3.8.8"
  }
 },
 "nbformat": 4,
 "nbformat_minor": 5
}
